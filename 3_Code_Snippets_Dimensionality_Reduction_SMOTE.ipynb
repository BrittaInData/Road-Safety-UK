{
 "cells": [
  {
   "cell_type": "markdown",
   "metadata": {},
   "source": [
    "# Road Safety Data for the UK"
   ]
  },
  {
   "cell_type": "markdown",
   "metadata": {},
   "source": [
    "# Code Snippets"
   ]
  },
  {
   "cell_type": "markdown",
   "metadata": {},
   "source": [
    "### 1. Dimensionality Reduction using Feature Selection\n",
    "\n",
    "We will reduce the dimensionality of our numerical feature matrix by selecting high-quality, informative features and dropping less useful features. This approach is called feature selection."
   ]
  },
  {
   "cell_type": "markdown",
   "metadata": {},
   "source": [
    "*1. Thresholding Numerical Feature Variance*"
   ]
  },
  {
   "cell_type": "code",
   "execution_count": 123,
   "metadata": {},
   "outputs": [],
   "source": [
    "# import library\n",
    "from sklearn.feature_selection import VarianceThreshold"
   ]
  },
  {
   "cell_type": "code",
   "execution_count": 124,
   "metadata": {},
   "outputs": [],
   "source": [
    "# create thresholder\n",
    "thresholder = VarianceThreshold(threshold=0.7)\n",
    "\n",
    "# create high vaiance feature matrix\n",
    "feature_high_variance = thresholder.fit_transform(df_model[num_cols])\n",
    "\n",
    "# View first 2 rows with features with variances above threshold\n",
    "#feature_high_variance[0:2]\n",
    "\n",
    "# view variances\n",
    "#thresholder.fit(features_num).variances_\n",
    "\n",
    "# view shape of matrix\n",
    "#feature_high_variance.shape"
   ]
  },
  {
   "cell_type": "code",
   "execution_count": 125,
   "metadata": {},
   "outputs": [
    {
     "data": {
      "text/plain": [
       "['Number_of_Vehicles']"
      ]
     },
     "execution_count": 125,
     "metadata": {},
     "output_type": "execute_result"
    }
   ],
   "source": [
    "useful_columns = [column for column in df_model[num_cols].columns \n",
    "                  if column in df_model[num_cols].columns[thresholder.get_support()]]\n",
    "\n",
    "not_useful_columns = [column for column in df_model[num_cols].columns \n",
    "                      if column not in df_model[num_cols].columns[thresholder.get_support()]]\n",
    "\n",
    "#useful_columns\n",
    "not_useful_columns"
   ]
  },
  {
   "cell_type": "code",
   "execution_count": 126,
   "metadata": {},
   "outputs": [
    {
     "data": {
      "text/plain": [
       "(782996, 16)"
      ]
     },
     "execution_count": 126,
     "metadata": {},
     "output_type": "execute_result"
    }
   ],
   "source": [
    "num_cols = useful_columns\n",
    "cols = num_cols + cat_cols\n",
    "df_model = df_model[cols]\n",
    "df_model.shape"
   ]
  },
  {
   "cell_type": "markdown",
   "metadata": {},
   "source": [
    "*2. Handling Highly Correlated Features*"
   ]
  },
  {
   "cell_type": "code",
   "execution_count": 127,
   "metadata": {},
   "outputs": [
    {
     "data": {
      "image/png": "[encoded data removed]",
      "text/plain": [
       "<Figure size 576x432 with 2 Axes>"
      ]
     },
     "metadata": {},
     "output_type": "display_data"
    }
   ],
   "source": [
    "# use heatmap to check for intercorrelation between variables\n",
    "plt.figure(figsize=(8,6))\n",
    "sns.heatmap(df_model[num_cols].corr(), center=0);"
   ]
  },
  {
   "cell_type": "code",
   "execution_count": 128,
   "metadata": {},
   "outputs": [],
   "source": [
    "# no multicollinearity --> no need to do anything"
   ]
  },
  {
   "cell_type": "markdown",
   "metadata": {},
   "source": [
    "### 2. Balancing the Data with SMOTE"
   ]
  },
  {
   "cell_type": "code",
   "execution_count": 52,
   "metadata": {},
   "outputs": [],
   "source": [
    "from imblearn.over_sampling import SMOTE"
   ]
  },
  {
   "cell_type": "code",
   "execution_count": 54,
   "metadata": {},
   "outputs": [
    {
     "name": "stdout",
     "output_type": "stream",
     "text": [
      "3    543781\n",
      "2     88820\n",
      "1      7959\n",
      "Name: Accident_Severity, dtype: int64\n",
      "3    434923\n",
      "2    434923\n",
      "1    434923\n",
      "dtype: int64\n"
     ]
    }
   ],
   "source": [
    "# view previous class distribution\n",
    "print(target['Accident_Severity'].value_counts()) \n",
    "\n",
    "# resample data ONLY using training data\n",
    "X_resampled, y_resampled = SMOTE().fit_sample(X_train, y_train) \n",
    "\n",
    "# view synthetic sample class distribution\n",
    "print(pd.Series(y_resampled).value_counts())"
   ]
  },
  {
   "cell_type": "code",
   "execution_count": 55,
   "metadata": {},
   "outputs": [],
   "source": [
    "# then perform ususal train-test-split\n",
    "X_train, X_test, y_train, y_test = train_test_split(X_resampled, y_resampled, random_state=0)"
   ]
  }
 ],
 "metadata": {
  "kernelspec": {
   "display_name": "Python 3",
   "language": "python",
   "name": "python3"
  },
  "language_info": {
   "codemirror_mode": {
    "name": "ipython",
    "version": 3
   },
   "file_extension": ".py",
   "mimetype": "text/x-python",
   "name": "python",
   "nbconvert_exporter": "python",
   "pygments_lexer": "ipython3",
   "version": "3.7.0"
  }
 },
 "nbformat": 4,
 "nbformat_minor": 2
}
