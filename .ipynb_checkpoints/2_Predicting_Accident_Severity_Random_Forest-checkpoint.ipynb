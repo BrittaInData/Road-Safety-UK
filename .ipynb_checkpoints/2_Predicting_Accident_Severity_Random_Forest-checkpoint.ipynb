{
 "cells": [
  {
   "cell_type": "markdown",
   "metadata": {},
   "source": [
    "# Road Safety Data for the UK\n",
    "\n",
    "#### The Data\n",
    "The [files](https://data.gov.uk/dataset/cb7ae6f0-4be6-4935-9277-47e5ce24a11f/road-safety-data) provide detailed road safety data about the circumstances of personal injury road accidents in GB, the types (including Make and Model) of vehicles involved and the consequential casualties. The statistics relate only to personal injury accidents on public roads that are reported to the police, and subsequently recorded, using the STATS19 accident reporting form. The files used here span 2013 to 2017."
   ]
  },
  {
   "cell_type": "markdown",
   "metadata": {},
   "source": [
    "# Table of Contents\n",
    "<a id='Table of Contents'></a>\n",
    "\n",
    "### <a href='#1. Obtaining and Viewing the Data'>1. Obtaining and Viewing the Data</a>\n",
    "\n",
    "### <a href='#2. Preprocessing the Data'>2. Preprocessing the Data</a>\n",
    "\n",
    "* <a href='#2.1. Handling Date and Time'>2.1. Handling Date and Time</a>\n",
    "* <a href='#2.2. Handling Missing Values'>2.2. Handling Missing Values</a>\n",
    "* <a href='#2.3. Merging Dataframes'>2.3. Merging Dataframes</a>\n",
    "* <a href='#2.4. Handling Numerical Data'>2.4. Handling Numerical Data</a>\n",
    "* <a href='#2.5. Handling Categorical Data'>2.5. Handling Categorical Data</a>\n",
    "\n",
    "### <a href='#3. Modeling the Data'>3. Modeling the Data</a>\n",
    "\n",
    "* <a href='#3.1. Train-Test-Split'>3.1. Train-Test-Split</a>\n",
    "* <a href='#3.2. Handling Imbalanced Classes'>3.2. Handling Imbalanced Classes</a>\n",
    "* <a href='#3.3. Training and Evaluating Random Forest Classifier with class_weight'>3.3. Training and Evaluating Random Forest Classifier with class_weight</a>\n",
    "* <a href='#3.4. Training and Evaluating Random Forest Classifier with SMOTE'>3.4. Training and Evaluating Random Forest Classifier with SMOTE</a>"
   ]
  },
  {
   "cell_type": "markdown",
   "metadata": {},
   "source": [
    "### 1. Obtaining and Viewing the Data\n",
    "<a id='1. Obtaining and Viewing the Data'></a>"
   ]
  },
  {
   "cell_type": "code",
   "execution_count": 1,
   "metadata": {},
   "outputs": [],
   "source": [
    "# import the usual suspects ...\n",
    "import pandas as pd\n",
    "import numpy as np\n",
    "import glob\n",
    "\n",
    "import matplotlib.pyplot as plt\n",
    "import seaborn as sns\n",
    "\n",
    "# suppress all warnings\n",
    "import warnings\n",
    "warnings.filterwarnings(\"ignore\")"
   ]
  },
  {
   "cell_type": "markdown",
   "metadata": {},
   "source": [
    "**Accidents 2013-2017**"
   ]
  },
  {
   "cell_type": "markdown",
   "metadata": {},
   "source": [
    "*To get some ideas on how to elegantly read in multiple files in pandas, check this [link](https://medium.com/@kadek/elegantly-reading-multiple-csvs-into-pandas-e1a76843b688).*"
   ]
  },
  {
   "cell_type": "code",
   "execution_count": 2,
   "metadata": {},
   "outputs": [
    {
     "name": "stdout",
     "output_type": "stream",
     "text": [
      "Records: 691641 \n",
      "Columns: 32\n"
     ]
    },
    {
     "data": {
      "text/html": [
       "<div>\n",
       "<style scoped>\n",
       "    .dataframe tbody tr th:only-of-type {\n",
       "        vertical-align: middle;\n",
       "    }\n",
       "\n",
       "    .dataframe tbody tr th {\n",
       "        vertical-align: top;\n",
       "    }\n",
       "\n",
       "    .dataframe thead th {\n",
       "        text-align: right;\n",
       "    }\n",
       "</style>\n",
       "<table border=\"1\" class=\"dataframe\">\n",
       "  <thead>\n",
       "    <tr style=\"text-align: right;\">\n",
       "      <th></th>\n",
       "      <th>Accident_Index</th>\n",
       "      <th>Location_Easting_OSGR</th>\n",
       "      <th>Location_Northing_OSGR</th>\n",
       "      <th>Longitude</th>\n",
       "      <th>Latitude</th>\n",
       "      <th>Police_Force</th>\n",
       "      <th>Accident_Severity</th>\n",
       "      <th>Number_of_Vehicles</th>\n",
       "      <th>Number_of_Casualties</th>\n",
       "      <th>Date</th>\n",
       "      <th>...</th>\n",
       "      <th>Pedestrian_Crossing-Human_Control</th>\n",
       "      <th>Pedestrian_Crossing-Physical_Facilities</th>\n",
       "      <th>Light_Conditions</th>\n",
       "      <th>Weather_Conditions</th>\n",
       "      <th>Road_Surface_Conditions</th>\n",
       "      <th>Special_Conditions_at_Site</th>\n",
       "      <th>Carriageway_Hazards</th>\n",
       "      <th>Urban_or_Rural_Area</th>\n",
       "      <th>Did_Police_Officer_Attend_Scene_of_Accident</th>\n",
       "      <th>LSOA_of_Accident_Location</th>\n",
       "    </tr>\n",
       "  </thead>\n",
       "  <tbody>\n",
       "    <tr>\n",
       "      <th>0</th>\n",
       "      <td>201501BS70001</td>\n",
       "      <td>525130.0</td>\n",
       "      <td>180050.0</td>\n",
       "      <td>-0.198465</td>\n",
       "      <td>51.505538</td>\n",
       "      <td>1</td>\n",
       "      <td>3</td>\n",
       "      <td>1</td>\n",
       "      <td>1</td>\n",
       "      <td>12/01/2015</td>\n",
       "      <td>...</td>\n",
       "      <td>0</td>\n",
       "      <td>0</td>\n",
       "      <td>4</td>\n",
       "      <td>1</td>\n",
       "      <td>1</td>\n",
       "      <td>0</td>\n",
       "      <td>0</td>\n",
       "      <td>1</td>\n",
       "      <td>1</td>\n",
       "      <td>E01002825</td>\n",
       "    </tr>\n",
       "    <tr>\n",
       "      <th>1</th>\n",
       "      <td>201501BS70002</td>\n",
       "      <td>526530.0</td>\n",
       "      <td>178560.0</td>\n",
       "      <td>-0.178838</td>\n",
       "      <td>51.491836</td>\n",
       "      <td>1</td>\n",
       "      <td>3</td>\n",
       "      <td>1</td>\n",
       "      <td>1</td>\n",
       "      <td>12/01/2015</td>\n",
       "      <td>...</td>\n",
       "      <td>0</td>\n",
       "      <td>0</td>\n",
       "      <td>1</td>\n",
       "      <td>1</td>\n",
       "      <td>1</td>\n",
       "      <td>0</td>\n",
       "      <td>0</td>\n",
       "      <td>1</td>\n",
       "      <td>1</td>\n",
       "      <td>E01002820</td>\n",
       "    </tr>\n",
       "    <tr>\n",
       "      <th>2</th>\n",
       "      <td>201501BS70004</td>\n",
       "      <td>524610.0</td>\n",
       "      <td>181080.0</td>\n",
       "      <td>-0.205590</td>\n",
       "      <td>51.514910</td>\n",
       "      <td>1</td>\n",
       "      <td>3</td>\n",
       "      <td>1</td>\n",
       "      <td>1</td>\n",
       "      <td>12/01/2015</td>\n",
       "      <td>...</td>\n",
       "      <td>0</td>\n",
       "      <td>1</td>\n",
       "      <td>4</td>\n",
       "      <td>2</td>\n",
       "      <td>2</td>\n",
       "      <td>0</td>\n",
       "      <td>0</td>\n",
       "      <td>1</td>\n",
       "      <td>1</td>\n",
       "      <td>E01002833</td>\n",
       "    </tr>\n",
       "  </tbody>\n",
       "</table>\n",
       "<p>3 rows × 32 columns</p>\n",
       "</div>"
      ],
      "text/plain": [
       "  Accident_Index  Location_Easting_OSGR  Location_Northing_OSGR  Longitude  \\\n",
       "0  201501BS70001               525130.0                180050.0  -0.198465   \n",
       "1  201501BS70002               526530.0                178560.0  -0.178838   \n",
       "2  201501BS70004               524610.0                181080.0  -0.205590   \n",
       "\n",
       "    Latitude  Police_Force  Accident_Severity  Number_of_Vehicles  \\\n",
       "0  51.505538             1                  3                   1   \n",
       "1  51.491836             1                  3                   1   \n",
       "2  51.514910             1                  3                   1   \n",
       "\n",
       "   Number_of_Casualties        Date  ...  Pedestrian_Crossing-Human_Control  \\\n",
       "0                     1  12/01/2015  ...                                  0   \n",
       "1                     1  12/01/2015  ...                                  0   \n",
       "2                     1  12/01/2015  ...                                  0   \n",
       "\n",
       "  Pedestrian_Crossing-Physical_Facilities  Light_Conditions  \\\n",
       "0                                       0                 4   \n",
       "1                                       0                 1   \n",
       "2                                       1                 4   \n",
       "\n",
       "  Weather_Conditions  Road_Surface_Conditions  Special_Conditions_at_Site  \\\n",
       "0                  1                        1                           0   \n",
       "1                  1                        1                           0   \n",
       "2                  2                        2                           0   \n",
       "\n",
       "   Carriageway_Hazards  Urban_or_Rural_Area  \\\n",
       "0                    0                    1   \n",
       "1                    0                    1   \n",
       "2                    0                    1   \n",
       "\n",
       "   Did_Police_Officer_Attend_Scene_of_Accident  LSOA_of_Accident_Location  \n",
       "0                                            1                  E01002825  \n",
       "1                                            1                  E01002820  \n",
       "2                                            1                  E01002833  \n",
       "\n",
       "[3 rows x 32 columns]"
      ]
     },
     "execution_count": 2,
     "metadata": {},
     "output_type": "execute_result"
    }
   ],
   "source": [
    "accidents = pd.concat([pd.read_csv(f, compression='zip', \n",
    "                                   low_memory=False) for f in glob.glob('data/*Accidents*.zip')])\n",
    "print('Records:', accidents.shape[0], '\\nColumns:', accidents.shape[1])\n",
    "accidents.head(3)"
   ]
  },
  {
   "cell_type": "code",
   "execution_count": 3,
   "metadata": {},
   "outputs": [],
   "source": [
    "#accidents.info()"
   ]
  },
  {
   "cell_type": "markdown",
   "metadata": {},
   "source": [
    "The combined accidents table that now spans 5 years contains almost 692.000 records and 32 columns, with only very few missing values. If we decided to work with date and/or time, we will need to convert the string values into datetime format. Besides that, almost all data is properly stored as numeric data."
   ]
  },
  {
   "cell_type": "markdown",
   "metadata": {},
   "source": [
    "**Casualties 2013-2017**"
   ]
  },
  {
   "cell_type": "code",
   "execution_count": 4,
   "metadata": {},
   "outputs": [],
   "source": [
    "# renaming the Accident_Index column in one of our tables\n",
    "#df = pd.read_csv('data/dftRoadSafetyData_Casualties_2013.zip', compression='zip')\n",
    "#df = df.rename(columns={'Acc_Index': 'Accident_Index'})\n",
    "#df.to_csv('data/dftRoadSafetyData_Casualties_2013.zip', compression='zip', index=False)"
   ]
  },
  {
   "cell_type": "code",
   "execution_count": 5,
   "metadata": {},
   "outputs": [
    {
     "name": "stdout",
     "output_type": "stream",
     "text": [
      "Records: 916713 \n",
      "Columns: 16\n"
     ]
    },
    {
     "data": {
      "text/html": [
       "<div>\n",
       "<style scoped>\n",
       "    .dataframe tbody tr th:only-of-type {\n",
       "        vertical-align: middle;\n",
       "    }\n",
       "\n",
       "    .dataframe tbody tr th {\n",
       "        vertical-align: top;\n",
       "    }\n",
       "\n",
       "    .dataframe thead th {\n",
       "        text-align: right;\n",
       "    }\n",
       "</style>\n",
       "<table border=\"1\" class=\"dataframe\">\n",
       "  <thead>\n",
       "    <tr style=\"text-align: right;\">\n",
       "      <th></th>\n",
       "      <th>Accident_Index</th>\n",
       "      <th>Age_Band_of_Casualty</th>\n",
       "      <th>Age_of_Casualty</th>\n",
       "      <th>Bus_or_Coach_Passenger</th>\n",
       "      <th>Car_Passenger</th>\n",
       "      <th>Casualty_Class</th>\n",
       "      <th>Casualty_Home_Area_Type</th>\n",
       "      <th>Casualty_IMD_Decile</th>\n",
       "      <th>Casualty_Reference</th>\n",
       "      <th>Casualty_Severity</th>\n",
       "      <th>Casualty_Type</th>\n",
       "      <th>Pedestrian_Location</th>\n",
       "      <th>Pedestrian_Movement</th>\n",
       "      <th>Pedestrian_Road_Maintenance_Worker</th>\n",
       "      <th>Sex_of_Casualty</th>\n",
       "      <th>Vehicle_Reference</th>\n",
       "    </tr>\n",
       "  </thead>\n",
       "  <tbody>\n",
       "    <tr>\n",
       "      <th>0</th>\n",
       "      <td>201301BS70003</td>\n",
       "      <td>7</td>\n",
       "      <td>NaN</td>\n",
       "      <td>0</td>\n",
       "      <td>0</td>\n",
       "      <td>1</td>\n",
       "      <td>1</td>\n",
       "      <td>NaN</td>\n",
       "      <td>1</td>\n",
       "      <td>2</td>\n",
       "      <td>1</td>\n",
       "      <td>0</td>\n",
       "      <td>0</td>\n",
       "      <td>0</td>\n",
       "      <td>1</td>\n",
       "      <td>2</td>\n",
       "    </tr>\n",
       "    <tr>\n",
       "      <th>1</th>\n",
       "      <td>201301BS70005</td>\n",
       "      <td>6</td>\n",
       "      <td>NaN</td>\n",
       "      <td>0</td>\n",
       "      <td>0</td>\n",
       "      <td>1</td>\n",
       "      <td>1</td>\n",
       "      <td>NaN</td>\n",
       "      <td>1</td>\n",
       "      <td>3</td>\n",
       "      <td>3</td>\n",
       "      <td>0</td>\n",
       "      <td>0</td>\n",
       "      <td>0</td>\n",
       "      <td>2</td>\n",
       "      <td>1</td>\n",
       "    </tr>\n",
       "    <tr>\n",
       "      <th>2</th>\n",
       "      <td>201301BS70005</td>\n",
       "      <td>4</td>\n",
       "      <td>NaN</td>\n",
       "      <td>0</td>\n",
       "      <td>0</td>\n",
       "      <td>3</td>\n",
       "      <td>1</td>\n",
       "      <td>NaN</td>\n",
       "      <td>2</td>\n",
       "      <td>3</td>\n",
       "      <td>0</td>\n",
       "      <td>1</td>\n",
       "      <td>1</td>\n",
       "      <td>2</td>\n",
       "      <td>2</td>\n",
       "      <td>1</td>\n",
       "    </tr>\n",
       "  </tbody>\n",
       "</table>\n",
       "</div>"
      ],
      "text/plain": [
       "  Accident_Index  Age_Band_of_Casualty  Age_of_Casualty  \\\n",
       "0  201301BS70003                     7              NaN   \n",
       "1  201301BS70005                     6              NaN   \n",
       "2  201301BS70005                     4              NaN   \n",
       "\n",
       "   Bus_or_Coach_Passenger  Car_Passenger  Casualty_Class  \\\n",
       "0                       0              0               1   \n",
       "1                       0              0               1   \n",
       "2                       0              0               3   \n",
       "\n",
       "   Casualty_Home_Area_Type  Casualty_IMD_Decile  Casualty_Reference  \\\n",
       "0                        1                  NaN                   1   \n",
       "1                        1                  NaN                   1   \n",
       "2                        1                  NaN                   2   \n",
       "\n",
       "   Casualty_Severity  Casualty_Type  Pedestrian_Location  Pedestrian_Movement  \\\n",
       "0                  2              1                    0                    0   \n",
       "1                  3              3                    0                    0   \n",
       "2                  3              0                    1                    1   \n",
       "\n",
       "   Pedestrian_Road_Maintenance_Worker  Sex_of_Casualty  Vehicle_Reference  \n",
       "0                                   0                1                  2  \n",
       "1                                   0                2                  1  \n",
       "2                                   2                2                  1  "
      ]
     },
     "execution_count": 5,
     "metadata": {},
     "output_type": "execute_result"
    }
   ],
   "source": [
    "casualties = pd.concat([pd.read_csv(f, compression='zip') for f in glob.glob('data/*Casualties*.zip')], \n",
    "                       sort=True)\n",
    "print('Records:', casualties.shape[0], '\\nColumns:', casualties.shape[1])\n",
    "casualties.head(3)"
   ]
  },
  {
   "cell_type": "code",
   "execution_count": 6,
   "metadata": {},
   "outputs": [],
   "source": [
    "#casualties.info()"
   ]
  },
  {
   "cell_type": "markdown",
   "metadata": {},
   "source": [
    "The combined casualties table has roughly 917,000 with 16 columns providing detailed information about the casualties. The data is almost complete, with missing values only in the `age_of_casualty` and `Casualty_IMD_Decile` columns. Apart from the index, all data is stored in a numeric format."
   ]
  },
  {
   "cell_type": "markdown",
   "metadata": {},
   "source": [
    "**Vehicles 2013-2017**"
   ]
  },
  {
   "cell_type": "code",
   "execution_count": 7,
   "metadata": {},
   "outputs": [],
   "source": [
    "# renaming the Accident_Index column in one of our tables\n",
    "#df = pd.read_csv('data/dftRoadSafetyData_Vehicles_2013.zip', compression='zip')\n",
    "#df = df.rename(columns={'Acc_Index': 'Accident_Index'})\n",
    "#df.to_csv('data/dftRoadSafetyData_Vehicles_2013.zip', compression='zip', index=False)"
   ]
  },
  {
   "cell_type": "code",
   "execution_count": 8,
   "metadata": {},
   "outputs": [
    {
     "name": "stdout",
     "output_type": "stream",
     "text": [
      "Records: 1270711 \n",
      "Columns: 23\n"
     ]
    },
    {
     "data": {
      "text/html": [
       "<div>\n",
       "<style scoped>\n",
       "    .dataframe tbody tr th:only-of-type {\n",
       "        vertical-align: middle;\n",
       "    }\n",
       "\n",
       "    .dataframe tbody tr th {\n",
       "        vertical-align: top;\n",
       "    }\n",
       "\n",
       "    .dataframe thead th {\n",
       "        text-align: right;\n",
       "    }\n",
       "</style>\n",
       "<table border=\"1\" class=\"dataframe\">\n",
       "  <thead>\n",
       "    <tr style=\"text-align: right;\">\n",
       "      <th></th>\n",
       "      <th>1st_Point_of_Impact</th>\n",
       "      <th>Accident_Index</th>\n",
       "      <th>Age_Band_of_Driver</th>\n",
       "      <th>Age_of_Driver</th>\n",
       "      <th>Age_of_Vehicle</th>\n",
       "      <th>Driver_Home_Area_Type</th>\n",
       "      <th>Driver_IMD_Decile</th>\n",
       "      <th>Engine_Capacity_(CC)</th>\n",
       "      <th>Hit_Object_in_Carriageway</th>\n",
       "      <th>Hit_Object_off_Carriageway</th>\n",
       "      <th>...</th>\n",
       "      <th>Sex_of_Driver</th>\n",
       "      <th>Skidding_and_Overturning</th>\n",
       "      <th>Towing_and_Articulation</th>\n",
       "      <th>Vehicle_IMD_Decile</th>\n",
       "      <th>Vehicle_Leaving_Carriageway</th>\n",
       "      <th>Vehicle_Location-Restricted_Lane</th>\n",
       "      <th>Vehicle_Manoeuvre</th>\n",
       "      <th>Vehicle_Reference</th>\n",
       "      <th>Vehicle_Type</th>\n",
       "      <th>Was_Vehicle_Left_Hand_Drive?</th>\n",
       "    </tr>\n",
       "  </thead>\n",
       "  <tbody>\n",
       "    <tr>\n",
       "      <th>0</th>\n",
       "      <td>1</td>\n",
       "      <td>201301BS70003</td>\n",
       "      <td>8</td>\n",
       "      <td>NaN</td>\n",
       "      <td>10</td>\n",
       "      <td>1</td>\n",
       "      <td>8</td>\n",
       "      <td>2402</td>\n",
       "      <td>0</td>\n",
       "      <td>0</td>\n",
       "      <td>...</td>\n",
       "      <td>1</td>\n",
       "      <td>0</td>\n",
       "      <td>0</td>\n",
       "      <td>NaN</td>\n",
       "      <td>0</td>\n",
       "      <td>0</td>\n",
       "      <td>6</td>\n",
       "      <td>1</td>\n",
       "      <td>8</td>\n",
       "      <td>1</td>\n",
       "    </tr>\n",
       "    <tr>\n",
       "      <th>1</th>\n",
       "      <td>1</td>\n",
       "      <td>201301BS70003</td>\n",
       "      <td>7</td>\n",
       "      <td>NaN</td>\n",
       "      <td>-1</td>\n",
       "      <td>1</td>\n",
       "      <td>8</td>\n",
       "      <td>-1</td>\n",
       "      <td>0</td>\n",
       "      <td>0</td>\n",
       "      <td>...</td>\n",
       "      <td>1</td>\n",
       "      <td>0</td>\n",
       "      <td>0</td>\n",
       "      <td>NaN</td>\n",
       "      <td>0</td>\n",
       "      <td>0</td>\n",
       "      <td>18</td>\n",
       "      <td>2</td>\n",
       "      <td>1</td>\n",
       "      <td>1</td>\n",
       "    </tr>\n",
       "    <tr>\n",
       "      <th>2</th>\n",
       "      <td>1</td>\n",
       "      <td>201301BS70005</td>\n",
       "      <td>6</td>\n",
       "      <td>NaN</td>\n",
       "      <td>5</td>\n",
       "      <td>1</td>\n",
       "      <td>4</td>\n",
       "      <td>124</td>\n",
       "      <td>0</td>\n",
       "      <td>0</td>\n",
       "      <td>...</td>\n",
       "      <td>2</td>\n",
       "      <td>0</td>\n",
       "      <td>0</td>\n",
       "      <td>NaN</td>\n",
       "      <td>0</td>\n",
       "      <td>0</td>\n",
       "      <td>18</td>\n",
       "      <td>1</td>\n",
       "      <td>3</td>\n",
       "      <td>1</td>\n",
       "    </tr>\n",
       "  </tbody>\n",
       "</table>\n",
       "<p>3 rows × 23 columns</p>\n",
       "</div>"
      ],
      "text/plain": [
       "   1st_Point_of_Impact Accident_Index  Age_Band_of_Driver  Age_of_Driver  \\\n",
       "0                    1  201301BS70003                   8            NaN   \n",
       "1                    1  201301BS70003                   7            NaN   \n",
       "2                    1  201301BS70005                   6            NaN   \n",
       "\n",
       "   Age_of_Vehicle  Driver_Home_Area_Type  Driver_IMD_Decile  \\\n",
       "0              10                      1                  8   \n",
       "1              -1                      1                  8   \n",
       "2               5                      1                  4   \n",
       "\n",
       "   Engine_Capacity_(CC)  Hit_Object_in_Carriageway  \\\n",
       "0                  2402                          0   \n",
       "1                    -1                          0   \n",
       "2                   124                          0   \n",
       "\n",
       "   Hit_Object_off_Carriageway  ...  Sex_of_Driver  Skidding_and_Overturning  \\\n",
       "0                           0  ...              1                         0   \n",
       "1                           0  ...              1                         0   \n",
       "2                           0  ...              2                         0   \n",
       "\n",
       "   Towing_and_Articulation  Vehicle_IMD_Decile  Vehicle_Leaving_Carriageway  \\\n",
       "0                        0                 NaN                            0   \n",
       "1                        0                 NaN                            0   \n",
       "2                        0                 NaN                            0   \n",
       "\n",
       "   Vehicle_Location-Restricted_Lane  Vehicle_Manoeuvre  Vehicle_Reference  \\\n",
       "0                                 0                  6                  1   \n",
       "1                                 0                 18                  2   \n",
       "2                                 0                 18                  1   \n",
       "\n",
       "   Vehicle_Type  Was_Vehicle_Left_Hand_Drive?  \n",
       "0             8                             1  \n",
       "1             1                             1  \n",
       "2             3                             1  \n",
       "\n",
       "[3 rows x 23 columns]"
      ]
     },
     "execution_count": 8,
     "metadata": {},
     "output_type": "execute_result"
    }
   ],
   "source": [
    "vehicles = pd.concat([pd.read_csv(f, compression='zip') for f in glob.glob('data/*Vehicles*.zip')], \n",
    "                     sort=True)\n",
    "print('Records:', vehicles.shape[0], '\\nColumns:', vehicles.shape[1])\n",
    "vehicles.head(3)"
   ]
  },
  {
   "cell_type": "code",
   "execution_count": 9,
   "metadata": {},
   "outputs": [],
   "source": [
    "#vehicles.info()"
   ]
  },
  {
   "cell_type": "markdown",
   "metadata": {},
   "source": [
    "The vehicles table is the largest of all three and contains roughly 1.270.000 records spanned over 23 columns with detailed information about the vehicle and its driver. We face missing values in the exact same columns as before: `Age_of_Driver` as well as `Vehicle_IMD_Decile`.\n",
    "\n",
    "Please use at the [data dictionary](https://github.com/BrittaInData/Road-Safety-UK/blob/master/data/Road-Accident-Safety-Data-Guide.xls) to know what kind of information we have."
   ]
  },
  {
   "cell_type": "markdown",
   "metadata": {},
   "source": [
    "*Back to: <a href='#Table of Contents'> Table of Contents</a>*\n",
    "### 2. Preprocessing the Data\n",
    "<a id='2. Preprocessing the Data'></a>"
   ]
  },
  {
   "cell_type": "markdown",
   "metadata": {},
   "source": [
    "#### 2.1. Handling Date and Time\n",
    "<a id='2.1. Handling Date and Time'></a>"
   ]
  },
  {
   "cell_type": "markdown",
   "metadata": {},
   "source": [
    "We had our `Date` columnwith values not properly stored in the correct format. Let's do this now:"
   ]
  },
  {
   "cell_type": "code",
   "execution_count": 10,
   "metadata": {},
   "outputs": [],
   "source": [
    "accidents['Date']= pd.to_datetime(accidents['Date'], format=\"%d/%m/%Y\")"
   ]
  },
  {
   "cell_type": "code",
   "execution_count": 11,
   "metadata": {},
   "outputs": [
    {
     "name": "stdout",
     "output_type": "stream",
     "text": [
      "<class 'pandas.core.frame.DataFrame'>\n",
      "Int64Index: 691641 entries, 0 to 138659\n",
      "Data columns (total 8 columns):\n",
      "Police_Force                  691641 non-null int64\n",
      "Accident_Severity             691641 non-null int64\n",
      "Number_of_Vehicles            691641 non-null int64\n",
      "Number_of_Casualties          691641 non-null int64\n",
      "Date                          691641 non-null datetime64[ns]\n",
      "Day_of_Week                   691641 non-null int64\n",
      "Time                          691610 non-null object\n",
      "Local_Authority_(District)    691641 non-null int64\n",
      "dtypes: datetime64[ns](1), int64(6), object(1)\n",
      "memory usage: 47.5+ MB\n"
     ]
    }
   ],
   "source": [
    "# check\n",
    "accidents.iloc[:, 5:13].info()"
   ]
  },
  {
   "cell_type": "code",
   "execution_count": 12,
   "metadata": {},
   "outputs": [
    {
     "data": {
      "text/html": [
       "<div>\n",
       "<style scoped>\n",
       "    .dataframe tbody tr th:only-of-type {\n",
       "        vertical-align: middle;\n",
       "    }\n",
       "\n",
       "    .dataframe tbody tr th {\n",
       "        vertical-align: top;\n",
       "    }\n",
       "\n",
       "    .dataframe thead th {\n",
       "        text-align: right;\n",
       "    }\n",
       "</style>\n",
       "<table border=\"1\" class=\"dataframe\">\n",
       "  <thead>\n",
       "    <tr style=\"text-align: right;\">\n",
       "      <th></th>\n",
       "      <th>Police_Force</th>\n",
       "      <th>Accident_Severity</th>\n",
       "      <th>Number_of_Vehicles</th>\n",
       "      <th>Number_of_Casualties</th>\n",
       "      <th>Date</th>\n",
       "      <th>Day_of_Week</th>\n",
       "      <th>Time</th>\n",
       "      <th>Local_Authority_(District)</th>\n",
       "    </tr>\n",
       "  </thead>\n",
       "  <tbody>\n",
       "    <tr>\n",
       "      <th>0</th>\n",
       "      <td>1</td>\n",
       "      <td>3</td>\n",
       "      <td>1</td>\n",
       "      <td>1</td>\n",
       "      <td>2015-01-12</td>\n",
       "      <td>2</td>\n",
       "      <td>18:45</td>\n",
       "      <td>12</td>\n",
       "    </tr>\n",
       "    <tr>\n",
       "      <th>1</th>\n",
       "      <td>1</td>\n",
       "      <td>3</td>\n",
       "      <td>1</td>\n",
       "      <td>1</td>\n",
       "      <td>2015-01-12</td>\n",
       "      <td>2</td>\n",
       "      <td>07:50</td>\n",
       "      <td>12</td>\n",
       "    </tr>\n",
       "  </tbody>\n",
       "</table>\n",
       "</div>"
      ],
      "text/plain": [
       "   Police_Force  Accident_Severity  Number_of_Vehicles  Number_of_Casualties  \\\n",
       "0             1                  3                   1                     1   \n",
       "1             1                  3                   1                     1   \n",
       "\n",
       "        Date  Day_of_Week   Time  Local_Authority_(District)  \n",
       "0 2015-01-12            2  18:45                          12  \n",
       "1 2015-01-12            2  07:50                          12  "
      ]
     },
     "execution_count": 12,
     "metadata": {},
     "output_type": "execute_result"
    }
   ],
   "source": [
    "accidents.iloc[:, 5:13].head(2)"
   ]
  },
  {
   "cell_type": "markdown",
   "metadata": {},
   "source": [
    "Next, let's define a new column that groups the `Time` the accidents happened into one of five options:\n",
    "- Morning Rush from 5am to 10am --> value 1\n",
    "- Office Hours from 10am to 3pm (or: 10:00 - 15:00) --> value 2\n",
    "- Afternoon Rush from 3pm to 7pm (or: 15:00 - 19:00) --> value 3\n",
    "- Evening from 7pm to 11pm (or: 19:00 - 23:00) --> value 4\n",
    "- Night from 11pm to 5am (or: 23:00 - 05:00) --> value 5"
   ]
  },
  {
   "cell_type": "code",
   "execution_count": 13,
   "metadata": {},
   "outputs": [],
   "source": [
    "# slice first and second string from time column\n",
    "accidents['Hour'] = accidents['Time'].str[0:2]\n",
    "\n",
    "# convert new column to numeric datetype\n",
    "accidents['Hour'] = pd.to_numeric(accidents['Hour'])\n",
    "\n",
    "# drop null values in our new column\n",
    "accidents = accidents.dropna(subset=['Hour'])\n",
    "\n",
    "# cast to integer values\n",
    "accidents['Hour'] = accidents['Hour'].astype('int')"
   ]
  },
  {
   "cell_type": "code",
   "execution_count": 14,
   "metadata": {},
   "outputs": [],
   "source": [
    "# define a function that turns the hours into daytime groups\n",
    "def when_was_it(hour):\n",
    "    if hour >= 5 and hour < 10:\n",
    "        return \"1\"\n",
    "    elif hour >= 10 and hour < 15:\n",
    "        return \"2\"\n",
    "    elif hour >= 15 and hour < 19:\n",
    "        return \"3\"\n",
    "    elif hour >= 19 and hour < 23:\n",
    "        return \"4\"\n",
    "    else:\n",
    "        return \"5\""
   ]
  },
  {
   "cell_type": "code",
   "execution_count": 15,
   "metadata": {},
   "outputs": [
    {
     "data": {
      "text/html": [
       "<div>\n",
       "<style scoped>\n",
       "    .dataframe tbody tr th:only-of-type {\n",
       "        vertical-align: middle;\n",
       "    }\n",
       "\n",
       "    .dataframe tbody tr th {\n",
       "        vertical-align: top;\n",
       "    }\n",
       "\n",
       "    .dataframe thead th {\n",
       "        text-align: right;\n",
       "    }\n",
       "</style>\n",
       "<table border=\"1\" class=\"dataframe\">\n",
       "  <thead>\n",
       "    <tr style=\"text-align: right;\">\n",
       "      <th></th>\n",
       "      <th>Time</th>\n",
       "      <th>Hour</th>\n",
       "      <th>Daytime</th>\n",
       "    </tr>\n",
       "  </thead>\n",
       "  <tbody>\n",
       "    <tr>\n",
       "      <th>0</th>\n",
       "      <td>18:45</td>\n",
       "      <td>18</td>\n",
       "      <td>3</td>\n",
       "    </tr>\n",
       "    <tr>\n",
       "      <th>1</th>\n",
       "      <td>07:50</td>\n",
       "      <td>7</td>\n",
       "      <td>1</td>\n",
       "    </tr>\n",
       "    <tr>\n",
       "      <th>2</th>\n",
       "      <td>18:08</td>\n",
       "      <td>18</td>\n",
       "      <td>3</td>\n",
       "    </tr>\n",
       "    <tr>\n",
       "      <th>3</th>\n",
       "      <td>07:40</td>\n",
       "      <td>7</td>\n",
       "      <td>1</td>\n",
       "    </tr>\n",
       "    <tr>\n",
       "      <th>4</th>\n",
       "      <td>07:30</td>\n",
       "      <td>7</td>\n",
       "      <td>1</td>\n",
       "    </tr>\n",
       "  </tbody>\n",
       "</table>\n",
       "</div>"
      ],
      "text/plain": [
       "    Time  Hour Daytime\n",
       "0  18:45    18       3\n",
       "1  07:50     7       1\n",
       "2  18:08    18       3\n",
       "3  07:40     7       1\n",
       "4  07:30     7       1"
      ]
     },
     "execution_count": 15,
     "metadata": {},
     "output_type": "execute_result"
    }
   ],
   "source": [
    "# apply thus function to our temporary hour column\n",
    "accidents['Daytime'] = accidents['Hour'].apply(when_was_it)\n",
    "accidents[['Time', 'Hour', 'Daytime']].head()"
   ]
  },
  {
   "cell_type": "code",
   "execution_count": 16,
   "metadata": {},
   "outputs": [],
   "source": [
    "# drop old time column and temporary hour column\n",
    "accidents = accidents.drop(columns=['Time', 'Hour'])"
   ]
  },
  {
   "cell_type": "markdown",
   "metadata": {},
   "source": [
    "#### 2.2. Handling Missing Values\n",
    "<a id='2.2. Handling Missing Values'></a>"
   ]
  },
  {
   "cell_type": "code",
   "execution_count": 17,
   "metadata": {},
   "outputs": [
    {
     "name": "stdout",
     "output_type": "stream",
     "text": [
      "Proportion of Missing Values in Accidents Table: 0.063 %\n"
     ]
    }
   ],
   "source": [
    "print('Proportion of Missing Values in Accidents Table:', \n",
    "      round(accidents.isna().sum().sum()/len(accidents),3), '%')"
   ]
  },
  {
   "cell_type": "code",
   "execution_count": 18,
   "metadata": {},
   "outputs": [
    {
     "data": {
      "text/plain": [
       "0"
      ]
     },
     "execution_count": 18,
     "metadata": {},
     "output_type": "execute_result"
    }
   ],
   "source": [
    "accidents = accidents.dropna()\n",
    "\n",
    "# check if we have no NaN's anymore\n",
    "accidents.isna().sum().sum()"
   ]
  },
  {
   "cell_type": "code",
   "execution_count": 19,
   "metadata": {},
   "outputs": [
    {
     "name": "stdout",
     "output_type": "stream",
     "text": [
      "Proportion of Missing Values in Casualties Table: 0.613 %\n"
     ]
    }
   ],
   "source": [
    "print('Proportion of Missing Values in Casualties Table:', \n",
    "      round(casualties.isna().sum().sum()/len(casualties),3), '%')"
   ]
  },
  {
   "cell_type": "code",
   "execution_count": 20,
   "metadata": {},
   "outputs": [
    {
     "name": "stdout",
     "output_type": "stream",
     "text": [
      "Proportion of Missing Values in Vehicles Table: 0.609 %\n"
     ]
    }
   ],
   "source": [
    "print('Proportion of Missing Values in Vehicles Table:', \n",
    "      round(vehicles.isna().sum().sum()/len(vehicles),3), '%')"
   ]
  },
  {
   "cell_type": "markdown",
   "metadata": {},
   "source": [
    "The last two dataframes have far too many missing values to even think about dropping them. But the first one only contains 6% missing values and it might be helpful to not mess up later analysis with NaN's. Let's drop them:"
   ]
  },
  {
   "cell_type": "code",
   "execution_count": 21,
   "metadata": {},
   "outputs": [
    {
     "data": {
      "text/plain": [
       "(648155, 32)"
      ]
     },
     "execution_count": 21,
     "metadata": {},
     "output_type": "execute_result"
    }
   ],
   "source": [
    "accidents.shape"
   ]
  },
  {
   "cell_type": "code",
   "execution_count": 22,
   "metadata": {},
   "outputs": [
    {
     "name": "stdout",
     "output_type": "stream",
     "text": [
      "<class 'pandas.core.frame.DataFrame'>\n",
      "Int64Index: 1270711 entries, 0 to 252499\n",
      "Data columns (total 23 columns):\n",
      "1st_Point_of_Impact                 1270711 non-null int64\n",
      "Accident_Index                      1270711 non-null object\n",
      "Age_Band_of_Driver                  1270711 non-null int64\n",
      "Age_of_Driver                       1017798 non-null float64\n",
      "Age_of_Vehicle                      1270711 non-null int64\n",
      "Driver_Home_Area_Type               1270711 non-null int64\n",
      "Driver_IMD_Decile                   1270711 non-null int64\n",
      "Engine_Capacity_(CC)                1270711 non-null int64\n",
      "Hit_Object_in_Carriageway           1270711 non-null int64\n",
      "Hit_Object_off_Carriageway          1270711 non-null int64\n",
      "Journey_Purpose_of_Driver           1270711 non-null int64\n",
      "Junction_Location                   1270711 non-null int64\n",
      "Propulsion_Code                     1270711 non-null int64\n",
      "Sex_of_Driver                       1270711 non-null int64\n",
      "Skidding_and_Overturning            1270711 non-null int64\n",
      "Towing_and_Articulation             1270711 non-null int64\n",
      "Vehicle_IMD_Decile                  749271 non-null float64\n",
      "Vehicle_Leaving_Carriageway         1270711 non-null int64\n",
      "Vehicle_Location-Restricted_Lane    1270711 non-null int64\n",
      "Vehicle_Manoeuvre                   1270711 non-null int64\n",
      "Vehicle_Reference                   1270711 non-null int64\n",
      "Vehicle_Type                        1270711 non-null int64\n",
      "Was_Vehicle_Left_Hand_Drive?        1270711 non-null int64\n",
      "dtypes: float64(2), int64(20), object(1)\n",
      "memory usage: 232.7+ MB\n"
     ]
    }
   ],
   "source": [
    "vehicles.info()"
   ]
  },
  {
   "cell_type": "markdown",
   "metadata": {},
   "source": [
    "*Back to: <a href='#Table of Contents'> Table of Contents</a>*\n",
    "#### 2.3. Merging Dataframes\n",
    "<a id='2.3. Merging Dataframes'></a>"
   ]
  },
  {
   "cell_type": "code",
   "execution_count": 23,
   "metadata": {},
   "outputs": [
    {
     "data": {
      "text/plain": [
       "0"
      ]
     },
     "execution_count": 23,
     "metadata": {},
     "output_type": "execute_result"
    }
   ],
   "source": [
    "# combine the accidents with the vehicles table\n",
    "df = pd.merge(accidents[['Accident_Index', 'Accident_Severity', 'Daytime', 'Speed_limit', 'Urban_or_Rural_Area']], \n",
    "              vehicles[['Accident_Index', 'Age_Band_of_Driver', 'Age_of_Vehicle', \n",
    "                        'Engine_Capacity_(CC)', 'Propulsion_Code', 'Was_Vehicle_Left_Hand_Drive?']], \n",
    "              on='Accident_Index')\n",
    "\n",
    "df.isna().sum().sum()"
   ]
  },
  {
   "cell_type": "code",
   "execution_count": 24,
   "metadata": {},
   "outputs": [],
   "source": [
    "#df.info()    "
   ]
  },
  {
   "cell_type": "code",
   "execution_count": 25,
   "metadata": {},
   "outputs": [
    {
     "name": "stdout",
     "output_type": "stream",
     "text": [
      "<class 'pandas.core.frame.DataFrame'>\n",
      "Int64Index: 1129207 entries, 0 to 1129206\n",
      "Data columns (total 10 columns):\n",
      "Accident_Index                  1129207 non-null object\n",
      "Accident_Severity               1129207 non-null category\n",
      "Daytime                         1129207 non-null category\n",
      "Speed_limit                     1129207 non-null category\n",
      "Urban_or_Rural_Area             1129207 non-null category\n",
      "Age_Band_of_Driver              1129207 non-null category\n",
      "Age_of_Vehicle                  1129207 non-null int64\n",
      "Engine_Capacity_(CC)            1129207 non-null int64\n",
      "Propulsion_Code                 1129207 non-null category\n",
      "Was_Vehicle_Left_Hand_Drive?    1129207 non-null category\n",
      "dtypes: category(7), int64(2), object(1)\n",
      "memory usage: 42.0+ MB\n"
     ]
    }
   ],
   "source": [
    "# cast categorical features - currently stored as string data - to their proper data format\n",
    "for col in ['Accident_Severity', 'Daytime', 'Speed_limit', 'Urban_or_Rural_Area', 'Age_Band_of_Driver', \n",
    "            'Propulsion_Code', 'Was_Vehicle_Left_Hand_Drive?']:\n",
    "    df[col] = df[col].astype('category')\n",
    "    \n",
    "df.info()"
   ]
  },
  {
   "cell_type": "code",
   "execution_count": 26,
   "metadata": {},
   "outputs": [
    {
     "data": {
      "text/plain": [
       "(1129207, 9)"
      ]
     },
     "execution_count": 26,
     "metadata": {},
     "output_type": "execute_result"
    }
   ],
   "source": [
    "# define categorical feature columns\n",
    "cat_cols = ['Daytime', 'Speed_limit', 'Urban_or_Rural_Area',\n",
    "            'Age_Band_of_Driver', 'Propulsion_Code', 'Was_Vehicle_Left_Hand_Drive?']\n",
    "\n",
    "# define numerical feature columns\n",
    "num_cols = ['Age_of_Vehicle', 'Engine_Capacity_(CC)']\n",
    "\n",
    "# define target col\n",
    "target_col = ['Accident_Severity']\n",
    "\n",
    "cols = cat_cols + num_cols + target_col\n",
    "\n",
    "# copy dataframe\n",
    "df_model = df[cols].copy()\n",
    "df_model.shape"
   ]
  },
  {
   "cell_type": "markdown",
   "metadata": {},
   "source": [
    "*Back to: <a href='#Table of Contents'> Table of Contents</a>*\n",
    "#### 2.4. Handling Numerical Data \n",
    "<a id='2.4. Handling Numerical Data'></a>"
   ]
  },
  {
   "cell_type": "markdown",
   "metadata": {},
   "source": [
    "*Detecting Outliers*"
   ]
  },
  {
   "cell_type": "code",
   "execution_count": 27,
   "metadata": {},
   "outputs": [
    {
     "data": {
      "image/png": "[encoded data removed]",
      "text/plain": [
       "<Figure size 720x288 with 2 Axes>"
      ]
     },
     "metadata": {},
     "output_type": "display_data"
    }
   ],
   "source": [
    "# plotting boxplots\n",
    "sns.set(style='darkgrid')\n",
    "fig, axes = plt.subplots(2,1, figsize=(10,4))\n",
    "\n",
    "for ax, col in zip(axes, num_cols):\n",
    "    df_model.boxplot(column=col, grid=False, vert=False, ax=ax)\n",
    "    plt.tight_layout();"
   ]
  },
  {
   "cell_type": "markdown",
   "metadata": {},
   "source": [
    "*Handling outliers by dropping them*"
   ]
  },
  {
   "cell_type": "code",
   "execution_count": 28,
   "metadata": {},
   "outputs": [],
   "source": [
    "# phrasing conditions\n",
    "cond_1 = (df_model['Age_of_Vehicle'] < 30) & (df_model['Age_of_Vehicle'] > 0)\n",
    "cond_2 = (df_model['Engine_Capacity_(CC)'] < 20000) & (df_model['Engine_Capacity_(CC)'] > 0)\n",
    "\n",
    "# combining all conditions\n",
    "conditions = cond_1 & cond_2\n",
    "\n",
    "# keep only records that meet our conditions and don't fall within extreme outliers\n",
    "df_model = df_model[conditions]"
   ]
  },
  {
   "cell_type": "markdown",
   "metadata": {},
   "source": [
    "*Feature Scaling*\n",
    "\n",
    "Tree based models, which we will use here later, are not distance based models and can handle varying ranges of features. Therefore scaling is not required."
   ]
  },
  {
   "cell_type": "code",
   "execution_count": 29,
   "metadata": {},
   "outputs": [],
   "source": [
    "from sklearn import preprocessing\n",
    "\n",
    "# create scaler\n",
    "scaler = preprocessing.StandardScaler()\n",
    "\n",
    "# transform numerical features\n",
    "#df_model[num_cols] = scaler.fit_transform(df_model[num_cols])\n",
    "#df_model = pd.merge(df_model[num_cols], df_model[cat_cols], left_index=True, right_index=True)\n",
    "#round(df_model[num_cols].mean())"
   ]
  },
  {
   "cell_type": "markdown",
   "metadata": {},
   "source": [
    "*Back to: <a href='#Table of Contents'> Table of Contents</a>*\n",
    "#### 2.5. Handling Categorical Data\n",
    "<a id='2.5. Handling Categorical Data'></a>"
   ]
  },
  {
   "cell_type": "markdown",
   "metadata": {},
   "source": [
    "*Encoding categorical features*"
   ]
  },
  {
   "cell_type": "code",
   "execution_count": 30,
   "metadata": {},
   "outputs": [
    {
     "data": {
      "text/plain": [
       "(802939, 39)"
      ]
     },
     "execution_count": 30,
     "metadata": {},
     "output_type": "execute_result"
    }
   ],
   "source": [
    "# create dummy variables from the categorical features\n",
    "dummies = pd.get_dummies(df_model[cat_cols], drop_first=True)\n",
    "df_model = pd.concat([df_model[num_cols], df_model[target_col], dummies], axis=1)\n",
    "df_model.shape"
   ]
  },
  {
   "cell_type": "code",
   "execution_count": 31,
   "metadata": {},
   "outputs": [
    {
     "data": {
      "text/plain": [
       "0"
      ]
     },
     "execution_count": 31,
     "metadata": {},
     "output_type": "execute_result"
    }
   ],
   "source": [
    "df_model.isna().sum().sum()"
   ]
  },
  {
   "cell_type": "markdown",
   "metadata": {},
   "source": [
    "*Back to: <a href='#Table of Contents'> Table of Contents</a>*\n",
    "### 3. Modeling the Data\n",
    "<a id='3. Modeling the Data'></a>"
   ]
  },
  {
   "cell_type": "markdown",
   "metadata": {},
   "source": [
    "#### 3.1. Train-Test-Split\n",
    "<a id='3.1. Train-Test-Split'></a>"
   ]
  },
  {
   "cell_type": "code",
   "execution_count": 32,
   "metadata": {},
   "outputs": [],
   "source": [
    "# define our features \n",
    "features = df_model.drop(['Accident_Severity'], axis=1)\n",
    "\n",
    "# define our target\n",
    "target = df_model[['Accident_Severity']]"
   ]
  },
  {
   "cell_type": "code",
   "execution_count": 33,
   "metadata": {},
   "outputs": [],
   "source": [
    "from sklearn.model_selection import train_test_split\n",
    "\n",
    "# split our data\n",
    "X_train, X_test, y_train, y_test = train_test_split(features, target, test_size=0.2)"
   ]
  },
  {
   "cell_type": "markdown",
   "metadata": {},
   "source": [
    "#### 3.2. Handling Imbalanced Classes\n",
    "<a id='3.2. Handling Imbalanced Classes'></a>\n",
    "\n",
    "If we have a target vector with highly imbalanced classes ..."
   ]
  },
  {
   "cell_type": "code",
   "execution_count": 34,
   "metadata": {},
   "outputs": [
    {
     "data": {
      "text/plain": [
       "3    0.852852\n",
       "2    0.135063\n",
       "1    0.012086\n",
       "Name: Accident_Severity, dtype: float64"
      ]
     },
     "execution_count": 34,
     "metadata": {},
     "output_type": "execute_result"
    }
   ],
   "source": [
    "df_model['Accident_Severity'].value_counts(normalize=True)"
   ]
  },
  {
   "cell_type": "markdown",
   "metadata": {},
   "source": [
    "... and we can't apply the best strategy and simply can't collect more data, especially from the minority class, we need to find other ways to deal with imbalanced classes.\n",
    "\n",
    "- A second strategy is to use a model evaluation metric better suited to imbalances classes: confusion matrices, precision, recall, F1 scores, or ROC curves instead of accuracy.\n",
    "- A third strategy is to use the class weighing parameter included in implementations of some models. This allows us to have the algorithm adjust for imbalanced classes.\n",
    "- The fourth and fifth strategies are related: downsampling and upsampling. Several of these resampling stratgies are well summarized in this [blog post by Chris Remmel](https://calremmel.github.io/fraud-detection-part-one.html).\n",
    "\n",
    "Let's focus first on **class_weight parameters**: The Random Forest Classifier we will use now is a popular classification algorithm and includes a `class_weight` parameter."
   ]
  },
  {
   "cell_type": "markdown",
   "metadata": {},
   "source": [
    "*Back to: <a href='#Table of Contents'> Table of Contents</a>*\n",
    "#### 3.3. Training and Evaluating Random Forest Classifier with class_weight\n",
    "<a id='3.3. Training and Evaluating Random Forest Classifier with class_weight'></a>"
   ]
  },
  {
   "cell_type": "code",
   "execution_count": 35,
   "metadata": {},
   "outputs": [],
   "source": [
    "# import classifier\n",
    "from sklearn.ensemble import RandomForestClassifier\n",
    "\n",
    "# import metrics\n",
    "from sklearn.metrics import classification_report, confusion_matrix\n",
    "\n",
    "# import evaluation tools\n",
    "from sklearn.model_selection import KFold, cross_val_score"
   ]
  },
  {
   "cell_type": "code",
   "execution_count": 36,
   "metadata": {},
   "outputs": [
    {
     "name": "stdout",
     "output_type": "stream",
     "text": [
      "Classification Report Random Forest - with Entropy and class_weight Parameter: \n",
      "               precision    recall  f1-score   support\n",
      "\n",
      "           1       0.02      0.05      0.03      1866\n",
      "           2       0.16      0.22      0.18     21704\n",
      "           3       0.86      0.78      0.82    137018\n",
      "\n",
      "   micro avg       0.70      0.70      0.70    160588\n",
      "   macro avg       0.34      0.35      0.34    160588\n",
      "weighted avg       0.75      0.70      0.72    160588\n",
      "\n"
     ]
    }
   ],
   "source": [
    "# instantiate RandomForestClassifier with entropy and class_weight\n",
    "forest_1 = RandomForestClassifier(random_state=4, criterion='entropy', \n",
    "                                        n_jobs=-1, class_weight='balanced')\n",
    "\n",
    "# train\n",
    "forest_1.fit(X_train, y_train)\n",
    "\n",
    "# predict\n",
    "y_test_preds  = forest_1.predict(X_test)\n",
    "\n",
    "# evaluate\n",
    "report = classification_report(y_test, y_test_preds)\n",
    "print('Classification Report Random Forest - with Entropy and class_weight Parameter: \\n', report)"
   ]
  },
  {
   "cell_type": "code",
   "execution_count": 37,
   "metadata": {
    "scrolled": true
   },
   "outputs": [
    {
     "data": {
      "text/plain": [
       "array([0.34084297, 0.3452357 , 0.34399864])"
      ]
     },
     "execution_count": 37,
     "metadata": {},
     "output_type": "execute_result"
    }
   ],
   "source": [
    "# cross-validation with F1 score (more appropriate to imbalanced classes)\n",
    "cross_val_score(forest_1, X_train, y_train, scoring='f1_macro', n_jobs=-1)"
   ]
  },
  {
   "cell_type": "code",
   "execution_count": 38,
   "metadata": {},
   "outputs": [
    {
     "data": {
      "image/png": "[encoded data removed]",
      "text/plain": [
       "<Figure size 432x288 with 1 Axes>"
      ]
     },
     "metadata": {},
     "output_type": "display_data"
    }
   ],
   "source": [
    "# create confusion matrix\n",
    "matrix = confusion_matrix(y_test, y_test_preds)\n",
    "\n",
    "# create dataframe\n",
    "class_names = df_model.Accident_Severity.values\n",
    "dataframe = pd.DataFrame(matrix, index=['Fatal', 'Serious', 'Slight'], \n",
    "                         columns=['Fatal', 'Serious', 'Slight'])\n",
    "\n",
    "# create heatmap\n",
    "sns.heatmap(dataframe, annot=True, cbar=None, cmap='Blues')\n",
    "plt.title('Confusion Matrix')\n",
    "plt.tight_layout(), plt.xlabel('True Class'), plt.ylabel('Predicted Class')\n",
    "plt.show()"
   ]
  },
  {
   "cell_type": "markdown",
   "metadata": {},
   "source": [
    "*Back to: <a href='#Table of Contents'> Table of Contents</a>*\n",
    "#### 3.4. Training and Evaluating Random Forest Classifier with SMOTE\n",
    "<a id='3.4. Training and Evaluating Random Forest Classifier with SMOTE'></a>"
   ]
  },
  {
   "cell_type": "markdown",
   "metadata": {},
   "source": [
    "The Random Forest using the `weight_class` parameter did not perform very well on classifying the severity. So let's try one of the resampling strategies to deal properly with our imbalances target classes: **Synthetic Minority Over-sampling Technique (SMOTE)**. Here we're repeatedly sample with replacement from the minority class to make it of equal size as the majority class. To be even more specific: We're creating new synthetic data for the minority class - that is representative but not exact duplicate - using K-Nearest Neighbors."
   ]
  },
  {
   "cell_type": "code",
   "execution_count": 40,
   "metadata": {},
   "outputs": [],
   "source": [
    "from imblearn.over_sampling import SMOTE"
   ]
  },
  {
   "cell_type": "code",
   "execution_count": 41,
   "metadata": {},
   "outputs": [
    {
     "name": "stdout",
     "output_type": "stream",
     "text": [
      "Before Upsampling with SMOTE:  3    684788\n",
      "2    108447\n",
      "1      9704\n",
      "Name: Accident_Severity, dtype: int64\n",
      "After Upsampling with SMOTE:  3    547770\n",
      "2    547770\n",
      "1    547770\n",
      "dtype: int64\n"
     ]
    }
   ],
   "source": [
    "# view previous class distribution\n",
    "print('Before Upsampling with SMOTE: ', target['Accident_Severity'].value_counts()) \n",
    "\n",
    "# resample data ONLY using training data\n",
    "X_resampled, y_resampled = SMOTE().fit_sample(X_train, y_train) \n",
    "\n",
    "# view synthetic sample class distribution\n",
    "print('After Upsampling with SMOTE: ', pd.Series(y_resampled).value_counts())"
   ]
  },
  {
   "cell_type": "code",
   "execution_count": 42,
   "metadata": {},
   "outputs": [],
   "source": [
    "# then perform ususal train-test-split\n",
    "X_train, X_test, y_train, y_test = train_test_split(X_resampled, y_resampled, random_state=0)"
   ]
  },
  {
   "cell_type": "code",
   "execution_count": 43,
   "metadata": {},
   "outputs": [
    {
     "name": "stdout",
     "output_type": "stream",
     "text": [
      "Classification Report Random Forest - with Entropy and SMOTE Upsampling: \n",
      "               precision    recall  f1-score   support\n",
      "\n",
      "           1       0.89      0.97      0.93    137056\n",
      "           2       0.72      0.73      0.72    137118\n",
      "           3       0.77      0.70      0.74    136654\n",
      "\n",
      "   micro avg       0.80      0.80      0.80    410828\n",
      "   macro avg       0.79      0.80      0.79    410828\n",
      "weighted avg       0.79      0.80      0.79    410828\n",
      "\n"
     ]
    }
   ],
   "source": [
    "# instantiate second RandomForestClassifier with entropy and SMOTE\n",
    "forest_2 = RandomForestClassifier(random_state=4, criterion='entropy', \n",
    "                                        n_jobs=-1, class_weight='balanced')\n",
    "\n",
    "# train\n",
    "forest_2.fit(X_train, y_train)\n",
    "\n",
    "# predict\n",
    "y_test_preds = forest_2.predict(X_test)\n",
    "\n",
    "# evaluate\n",
    "report = classification_report(y_test, y_test_preds)\n",
    "print('Classification Report Random Forest - with Entropy and SMOTE Upsampling: \\n', report)"
   ]
  },
  {
   "cell_type": "code",
   "execution_count": 44,
   "metadata": {},
   "outputs": [
    {
     "data": {
      "text/plain": [
       "array([0.34084297, 0.3452357 , 0.34399864])"
      ]
     },
     "execution_count": 44,
     "metadata": {},
     "output_type": "execute_result"
    }
   ],
   "source": [
    "# cross-validation with F1 score (more appropriate to imbalanced classes)\n",
    "cross_val_score(forest_2, X_train, y_train, scoring='f1_macro', n_jobs=-1)"
   ]
  },
  {
   "cell_type": "code",
   "execution_count": 45,
   "metadata": {},
   "outputs": [
    {
     "data": {
      "image/png": "[encoded data removed]",
      "text/plain": [
       "<Figure size 432x288 with 1 Axes>"
      ]
     },
     "metadata": {},
     "output_type": "display_data"
    }
   ],
   "source": [
    "# create confusion matrix\n",
    "matrix = confusion_matrix(y_test, y_test_preds)\n",
    "\n",
    "# create dataframe\n",
    "class_names = df_model.Accident_Severity.values\n",
    "dataframe = pd.DataFrame(matrix, index=['Fatal', 'Serious', 'Slight'], \n",
    "                         columns=['Fatal', 'Serious', 'Slight'])\n",
    "\n",
    "# create heatmap\n",
    "sns.heatmap(dataframe, annot=True, cbar=None, cmap='Blues')\n",
    "plt.title('Confusion Matrix')\n",
    "plt.tight_layout(), plt.xlabel('True Class'), plt.ylabel('Predicted Class')\n",
    "plt.show()"
   ]
  },
  {
   "cell_type": "code",
   "execution_count": 46,
   "metadata": {},
   "outputs": [
    {
     "data": {
      "image/png": "[encoded data removed]",
      "text/plain": [
       "<Figure size 720x360 with 1 Axes>"
      ]
     },
     "metadata": {},
     "output_type": "display_data"
    }
   ],
   "source": [
    "# plot the important features\n",
    "feat_importances = pd.Series(forest_2.feature_importances_, index=features.columns)\n",
    "feat_importances.nlargest(10).sort_values().plot(kind='barh', color='darkgrey', figsize=(10,5))\n",
    "plt.xlabel('Relative Feature Importance with Random Forest');"
   ]
  }
 ],
 "metadata": {
  "kernelspec": {
   "display_name": "Python 3",
   "language": "python",
   "name": "python3"
  },
  "language_info": {
   "codemirror_mode": {
    "name": "ipython",
    "version": 3
   },
   "file_extension": ".py",
   "mimetype": "text/x-python",
   "name": "python",
   "nbconvert_exporter": "python",
   "pygments_lexer": "ipython3",
   "version": "3.7.0"
  }
 },
 "nbformat": 4,
 "nbformat_minor": 2
}
