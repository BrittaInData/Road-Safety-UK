{
 "cells": [
  {
   "cell_type": "markdown",
   "metadata": {},
   "source": [
    "# Road Safety Data for the UK\n",
    "\n",
    "#### The Data\n",
    "The [files](https://data.gov.uk/dataset/cb7ae6f0-4be6-4935-9277-47e5ce24a11f/road-safety-data) provide detailed road safety data about the circumstances of personal injury road accidents in GB, the types (including Make and Model) of vehicles involved and the consequential casualties. The statistics relate only to personal injury accidents on public roads that are reported to the police, and subsequently recorded, using the STATS19 accident reporting form. The files used here span 2013 to 2017.\n",
    "\n",
    "#### The Task\n",
    "The purpose of the analysis is \n",
    "- To summarize the main characteristics of the data, and obtain interesting facts that are worth highlighting.\n",
    "- Identity and quantify associations (if any) between the number of causalities (in the Accidents table) and other variables in the data set.\n",
    "- Explore whether it is possible to predict accident hotspots based on the data.\n",
    "\n",
    "#### The OSEMiN-approach\n",
    "\n",
    "The OSEMiN Process is an acronym that rhymes with “awesome” and stands for **Obtain, Scrub, Explore, Model, and iNterpret**. It can be used as a blueprint for working on data problems using machine learning tools. Preprocessing involves scrubbing (also called cleaning) and exploring the data. Building the model, evaluating, and optimizing it make up the process of machine learning."
   ]
  },
  {
   "cell_type": "markdown",
   "metadata": {},
   "source": [
    "# Table of Contents\n",
    "<a id='Table of Contents'></a>\n",
    "\n",
    "### <a href='#1. Obtaining and Viewing the Data'>1. Obtaining and Viewing the Data</a>\n",
    "\n",
    "### <a href='#2. Preprocessing the Data'>2. Preprocessing the Data</a>\n",
    "\n",
    "* <a href='#2.1. Handling Date and Time Columns'>2.1. Handling Date and Time Columns</a>\n",
    "* <a href='#2.2. Handling Missing Values'>2.2. Handling Missing Values</a>\n",
    "\n",
    "### <a href='#3. Modeling the Data'>3. Modeling the Data</a>\n",
    "\n",
    "* <a href='#3.1. Preprocessing Target and Features'>3.1. Preprocessing Target and Features</a>\n",
    "* <a href='#3.2. Dimensionality Reduction using Feature Selection'>3.2. Dimensionality Reduction using Feature Selection</a>\n",
    "* <a href='#3.2. Random Forest Classifier'>3.2. Random Forest Classifier</a>\n",
    "* <a href='#3.3. Support Vector Classification'>3.3. Support Vector Classification</a>"
   ]
  },
  {
   "cell_type": "markdown",
   "metadata": {},
   "source": [
    "### 1. Obtaining and Viewing the Data\n",
    "<a id='1. Obtaining and Viewing the Data'></a>"
   ]
  },
  {
   "cell_type": "code",
   "execution_count": 1,
   "metadata": {},
   "outputs": [],
   "source": [
    "# import the usual suspects ...\n",
    "import pandas as pd\n",
    "import numpy as np\n",
    "import glob\n",
    "\n",
    "import matplotlib.pyplot as plt\n",
    "import seaborn as sns\n",
    "\n",
    "# suppress all warnings\n",
    "import warnings\n",
    "warnings.filterwarnings(\"ignore\")"
   ]
  },
  {
   "cell_type": "markdown",
   "metadata": {},
   "source": [
    "**Accidents 2013-2017**"
   ]
  },
  {
   "cell_type": "markdown",
   "metadata": {},
   "source": [
    "*To get some ideas on how to elegantly read in multiple files in pandas, check this [link](https://medium.com/@kadek/elegantly-reading-multiple-csvs-into-pandas-e1a76843b688).*"
   ]
  },
  {
   "cell_type": "code",
   "execution_count": 2,
   "metadata": {},
   "outputs": [
    {
     "name": "stdout",
     "output_type": "stream",
     "text": [
      "Records: 691641 \n",
      "Columns: 32\n"
     ]
    },
    {
     "data": {
      "text/html": [
       "<div>\n",
       "<style scoped>\n",
       "    .dataframe tbody tr th:only-of-type {\n",
       "        vertical-align: middle;\n",
       "    }\n",
       "\n",
       "    .dataframe tbody tr th {\n",
       "        vertical-align: top;\n",
       "    }\n",
       "\n",
       "    .dataframe thead th {\n",
       "        text-align: right;\n",
       "    }\n",
       "</style>\n",
       "<table border=\"1\" class=\"dataframe\">\n",
       "  <thead>\n",
       "    <tr style=\"text-align: right;\">\n",
       "      <th></th>\n",
       "      <th>Accident_Index</th>\n",
       "      <th>Location_Easting_OSGR</th>\n",
       "      <th>Location_Northing_OSGR</th>\n",
       "      <th>Longitude</th>\n",
       "      <th>Latitude</th>\n",
       "      <th>Police_Force</th>\n",
       "      <th>Accident_Severity</th>\n",
       "      <th>Number_of_Vehicles</th>\n",
       "      <th>Number_of_Casualties</th>\n",
       "      <th>Date</th>\n",
       "      <th>...</th>\n",
       "      <th>Pedestrian_Crossing-Human_Control</th>\n",
       "      <th>Pedestrian_Crossing-Physical_Facilities</th>\n",
       "      <th>Light_Conditions</th>\n",
       "      <th>Weather_Conditions</th>\n",
       "      <th>Road_Surface_Conditions</th>\n",
       "      <th>Special_Conditions_at_Site</th>\n",
       "      <th>Carriageway_Hazards</th>\n",
       "      <th>Urban_or_Rural_Area</th>\n",
       "      <th>Did_Police_Officer_Attend_Scene_of_Accident</th>\n",
       "      <th>LSOA_of_Accident_Location</th>\n",
       "    </tr>\n",
       "  </thead>\n",
       "  <tbody>\n",
       "    <tr>\n",
       "      <th>0</th>\n",
       "      <td>201501BS70001</td>\n",
       "      <td>525130.0</td>\n",
       "      <td>180050.0</td>\n",
       "      <td>-0.198465</td>\n",
       "      <td>51.505538</td>\n",
       "      <td>1</td>\n",
       "      <td>3</td>\n",
       "      <td>1</td>\n",
       "      <td>1</td>\n",
       "      <td>12/01/2015</td>\n",
       "      <td>...</td>\n",
       "      <td>0</td>\n",
       "      <td>0</td>\n",
       "      <td>4</td>\n",
       "      <td>1</td>\n",
       "      <td>1</td>\n",
       "      <td>0</td>\n",
       "      <td>0</td>\n",
       "      <td>1</td>\n",
       "      <td>1</td>\n",
       "      <td>E01002825</td>\n",
       "    </tr>\n",
       "    <tr>\n",
       "      <th>1</th>\n",
       "      <td>201501BS70002</td>\n",
       "      <td>526530.0</td>\n",
       "      <td>178560.0</td>\n",
       "      <td>-0.178838</td>\n",
       "      <td>51.491836</td>\n",
       "      <td>1</td>\n",
       "      <td>3</td>\n",
       "      <td>1</td>\n",
       "      <td>1</td>\n",
       "      <td>12/01/2015</td>\n",
       "      <td>...</td>\n",
       "      <td>0</td>\n",
       "      <td>0</td>\n",
       "      <td>1</td>\n",
       "      <td>1</td>\n",
       "      <td>1</td>\n",
       "      <td>0</td>\n",
       "      <td>0</td>\n",
       "      <td>1</td>\n",
       "      <td>1</td>\n",
       "      <td>E01002820</td>\n",
       "    </tr>\n",
       "    <tr>\n",
       "      <th>2</th>\n",
       "      <td>201501BS70004</td>\n",
       "      <td>524610.0</td>\n",
       "      <td>181080.0</td>\n",
       "      <td>-0.205590</td>\n",
       "      <td>51.514910</td>\n",
       "      <td>1</td>\n",
       "      <td>3</td>\n",
       "      <td>1</td>\n",
       "      <td>1</td>\n",
       "      <td>12/01/2015</td>\n",
       "      <td>...</td>\n",
       "      <td>0</td>\n",
       "      <td>1</td>\n",
       "      <td>4</td>\n",
       "      <td>2</td>\n",
       "      <td>2</td>\n",
       "      <td>0</td>\n",
       "      <td>0</td>\n",
       "      <td>1</td>\n",
       "      <td>1</td>\n",
       "      <td>E01002833</td>\n",
       "    </tr>\n",
       "    <tr>\n",
       "      <th>3</th>\n",
       "      <td>201501BS70005</td>\n",
       "      <td>524420.0</td>\n",
       "      <td>181080.0</td>\n",
       "      <td>-0.208327</td>\n",
       "      <td>51.514952</td>\n",
       "      <td>1</td>\n",
       "      <td>3</td>\n",
       "      <td>1</td>\n",
       "      <td>1</td>\n",
       "      <td>13/01/2015</td>\n",
       "      <td>...</td>\n",
       "      <td>0</td>\n",
       "      <td>0</td>\n",
       "      <td>1</td>\n",
       "      <td>1</td>\n",
       "      <td>2</td>\n",
       "      <td>0</td>\n",
       "      <td>0</td>\n",
       "      <td>1</td>\n",
       "      <td>2</td>\n",
       "      <td>E01002874</td>\n",
       "    </tr>\n",
       "    <tr>\n",
       "      <th>4</th>\n",
       "      <td>201501BS70008</td>\n",
       "      <td>524630.0</td>\n",
       "      <td>179040.0</td>\n",
       "      <td>-0.206022</td>\n",
       "      <td>51.496572</td>\n",
       "      <td>1</td>\n",
       "      <td>2</td>\n",
       "      <td>2</td>\n",
       "      <td>1</td>\n",
       "      <td>09/01/2015</td>\n",
       "      <td>...</td>\n",
       "      <td>0</td>\n",
       "      <td>5</td>\n",
       "      <td>1</td>\n",
       "      <td>2</td>\n",
       "      <td>2</td>\n",
       "      <td>0</td>\n",
       "      <td>0</td>\n",
       "      <td>1</td>\n",
       "      <td>2</td>\n",
       "      <td>E01002814</td>\n",
       "    </tr>\n",
       "  </tbody>\n",
       "</table>\n",
       "<p>5 rows × 32 columns</p>\n",
       "</div>"
      ],
      "text/plain": [
       "  Accident_Index  Location_Easting_OSGR  Location_Northing_OSGR  Longitude  \\\n",
       "0  201501BS70001               525130.0                180050.0  -0.198465   \n",
       "1  201501BS70002               526530.0                178560.0  -0.178838   \n",
       "2  201501BS70004               524610.0                181080.0  -0.205590   \n",
       "3  201501BS70005               524420.0                181080.0  -0.208327   \n",
       "4  201501BS70008               524630.0                179040.0  -0.206022   \n",
       "\n",
       "    Latitude  Police_Force  Accident_Severity  Number_of_Vehicles  \\\n",
       "0  51.505538             1                  3                   1   \n",
       "1  51.491836             1                  3                   1   \n",
       "2  51.514910             1                  3                   1   \n",
       "3  51.514952             1                  3                   1   \n",
       "4  51.496572             1                  2                   2   \n",
       "\n",
       "   Number_of_Casualties        Date  ...  Pedestrian_Crossing-Human_Control  \\\n",
       "0                     1  12/01/2015  ...                                  0   \n",
       "1                     1  12/01/2015  ...                                  0   \n",
       "2                     1  12/01/2015  ...                                  0   \n",
       "3                     1  13/01/2015  ...                                  0   \n",
       "4                     1  09/01/2015  ...                                  0   \n",
       "\n",
       "  Pedestrian_Crossing-Physical_Facilities  Light_Conditions  \\\n",
       "0                                       0                 4   \n",
       "1                                       0                 1   \n",
       "2                                       1                 4   \n",
       "3                                       0                 1   \n",
       "4                                       5                 1   \n",
       "\n",
       "  Weather_Conditions  Road_Surface_Conditions  Special_Conditions_at_Site  \\\n",
       "0                  1                        1                           0   \n",
       "1                  1                        1                           0   \n",
       "2                  2                        2                           0   \n",
       "3                  1                        2                           0   \n",
       "4                  2                        2                           0   \n",
       "\n",
       "   Carriageway_Hazards  Urban_or_Rural_Area  \\\n",
       "0                    0                    1   \n",
       "1                    0                    1   \n",
       "2                    0                    1   \n",
       "3                    0                    1   \n",
       "4                    0                    1   \n",
       "\n",
       "   Did_Police_Officer_Attend_Scene_of_Accident  LSOA_of_Accident_Location  \n",
       "0                                            1                  E01002825  \n",
       "1                                            1                  E01002820  \n",
       "2                                            1                  E01002833  \n",
       "3                                            2                  E01002874  \n",
       "4                                            2                  E01002814  \n",
       "\n",
       "[5 rows x 32 columns]"
      ]
     },
     "execution_count": 2,
     "metadata": {},
     "output_type": "execute_result"
    }
   ],
   "source": [
    "accidents = pd.concat([pd.read_csv(f, compression='zip', \n",
    "                                   low_memory=False) for f in glob.glob('data/*Accidents*.zip')])\n",
    "print('Records:', accidents.shape[0], '\\nColumns:', accidents.shape[1])\n",
    "accidents.head()"
   ]
  },
  {
   "cell_type": "code",
   "execution_count": 3,
   "metadata": {},
   "outputs": [],
   "source": [
    "#accidents.info()"
   ]
  },
  {
   "cell_type": "markdown",
   "metadata": {},
   "source": [
    "The combined accidents table that now spans 5 years contains almost 692.000 records and 32 columns, with only very few missing values. If we decided to work with date and/or time, we will need to convert the string values into datetime format. Besides that, almost all data is properly stored as numeric data."
   ]
  },
  {
   "cell_type": "markdown",
   "metadata": {},
   "source": [
    "**Casualties 2013-2017**"
   ]
  },
  {
   "cell_type": "code",
   "execution_count": 4,
   "metadata": {},
   "outputs": [],
   "source": [
    "# renaming the index column in one of our tables\n",
    "#df = pd.read_csv('data/dftRoadSafetyData_Casualties_2013.zip', compression='zip')\n",
    "#df = df.rename(columns={'Acc_Index': 'Accident_Index'})\n",
    "#df.to_csv('data/dftRoadSafetyData_Casualties_2013.zip', compression='zip', index=False)"
   ]
  },
  {
   "cell_type": "code",
   "execution_count": 5,
   "metadata": {},
   "outputs": [
    {
     "name": "stdout",
     "output_type": "stream",
     "text": [
      "Records: 916713 \n",
      "Columns: 16\n"
     ]
    },
    {
     "data": {
      "text/html": [
       "<div>\n",
       "<style scoped>\n",
       "    .dataframe tbody tr th:only-of-type {\n",
       "        vertical-align: middle;\n",
       "    }\n",
       "\n",
       "    .dataframe tbody tr th {\n",
       "        vertical-align: top;\n",
       "    }\n",
       "\n",
       "    .dataframe thead th {\n",
       "        text-align: right;\n",
       "    }\n",
       "</style>\n",
       "<table border=\"1\" class=\"dataframe\">\n",
       "  <thead>\n",
       "    <tr style=\"text-align: right;\">\n",
       "      <th></th>\n",
       "      <th>Accident_Index</th>\n",
       "      <th>Age_Band_of_Casualty</th>\n",
       "      <th>Age_of_Casualty</th>\n",
       "      <th>Bus_or_Coach_Passenger</th>\n",
       "      <th>Car_Passenger</th>\n",
       "      <th>Casualty_Class</th>\n",
       "      <th>Casualty_Home_Area_Type</th>\n",
       "      <th>Casualty_IMD_Decile</th>\n",
       "      <th>Casualty_Reference</th>\n",
       "      <th>Casualty_Severity</th>\n",
       "      <th>Casualty_Type</th>\n",
       "      <th>Pedestrian_Location</th>\n",
       "      <th>Pedestrian_Movement</th>\n",
       "      <th>Pedestrian_Road_Maintenance_Worker</th>\n",
       "      <th>Sex_of_Casualty</th>\n",
       "      <th>Vehicle_Reference</th>\n",
       "    </tr>\n",
       "  </thead>\n",
       "  <tbody>\n",
       "    <tr>\n",
       "      <th>0</th>\n",
       "      <td>201301BS70003</td>\n",
       "      <td>7</td>\n",
       "      <td>NaN</td>\n",
       "      <td>0</td>\n",
       "      <td>0</td>\n",
       "      <td>1</td>\n",
       "      <td>1</td>\n",
       "      <td>NaN</td>\n",
       "      <td>1</td>\n",
       "      <td>2</td>\n",
       "      <td>1</td>\n",
       "      <td>0</td>\n",
       "      <td>0</td>\n",
       "      <td>0</td>\n",
       "      <td>1</td>\n",
       "      <td>2</td>\n",
       "    </tr>\n",
       "    <tr>\n",
       "      <th>1</th>\n",
       "      <td>201301BS70005</td>\n",
       "      <td>6</td>\n",
       "      <td>NaN</td>\n",
       "      <td>0</td>\n",
       "      <td>0</td>\n",
       "      <td>1</td>\n",
       "      <td>1</td>\n",
       "      <td>NaN</td>\n",
       "      <td>1</td>\n",
       "      <td>3</td>\n",
       "      <td>3</td>\n",
       "      <td>0</td>\n",
       "      <td>0</td>\n",
       "      <td>0</td>\n",
       "      <td>2</td>\n",
       "      <td>1</td>\n",
       "    </tr>\n",
       "    <tr>\n",
       "      <th>2</th>\n",
       "      <td>201301BS70005</td>\n",
       "      <td>4</td>\n",
       "      <td>NaN</td>\n",
       "      <td>0</td>\n",
       "      <td>0</td>\n",
       "      <td>3</td>\n",
       "      <td>1</td>\n",
       "      <td>NaN</td>\n",
       "      <td>2</td>\n",
       "      <td>3</td>\n",
       "      <td>0</td>\n",
       "      <td>1</td>\n",
       "      <td>1</td>\n",
       "      <td>2</td>\n",
       "      <td>2</td>\n",
       "      <td>1</td>\n",
       "    </tr>\n",
       "    <tr>\n",
       "      <th>3</th>\n",
       "      <td>201301BS70006</td>\n",
       "      <td>10</td>\n",
       "      <td>NaN</td>\n",
       "      <td>4</td>\n",
       "      <td>0</td>\n",
       "      <td>2</td>\n",
       "      <td>1</td>\n",
       "      <td>NaN</td>\n",
       "      <td>1</td>\n",
       "      <td>3</td>\n",
       "      <td>11</td>\n",
       "      <td>0</td>\n",
       "      <td>0</td>\n",
       "      <td>0</td>\n",
       "      <td>1</td>\n",
       "      <td>1</td>\n",
       "    </tr>\n",
       "    <tr>\n",
       "      <th>4</th>\n",
       "      <td>201301BS70007</td>\n",
       "      <td>7</td>\n",
       "      <td>NaN</td>\n",
       "      <td>0</td>\n",
       "      <td>0</td>\n",
       "      <td>1</td>\n",
       "      <td>1</td>\n",
       "      <td>NaN</td>\n",
       "      <td>1</td>\n",
       "      <td>3</td>\n",
       "      <td>3</td>\n",
       "      <td>0</td>\n",
       "      <td>0</td>\n",
       "      <td>0</td>\n",
       "      <td>1</td>\n",
       "      <td>1</td>\n",
       "    </tr>\n",
       "  </tbody>\n",
       "</table>\n",
       "</div>"
      ],
      "text/plain": [
       "  Accident_Index  Age_Band_of_Casualty  Age_of_Casualty  \\\n",
       "0  201301BS70003                     7              NaN   \n",
       "1  201301BS70005                     6              NaN   \n",
       "2  201301BS70005                     4              NaN   \n",
       "3  201301BS70006                    10              NaN   \n",
       "4  201301BS70007                     7              NaN   \n",
       "\n",
       "   Bus_or_Coach_Passenger  Car_Passenger  Casualty_Class  \\\n",
       "0                       0              0               1   \n",
       "1                       0              0               1   \n",
       "2                       0              0               3   \n",
       "3                       4              0               2   \n",
       "4                       0              0               1   \n",
       "\n",
       "   Casualty_Home_Area_Type  Casualty_IMD_Decile  Casualty_Reference  \\\n",
       "0                        1                  NaN                   1   \n",
       "1                        1                  NaN                   1   \n",
       "2                        1                  NaN                   2   \n",
       "3                        1                  NaN                   1   \n",
       "4                        1                  NaN                   1   \n",
       "\n",
       "   Casualty_Severity  Casualty_Type  Pedestrian_Location  Pedestrian_Movement  \\\n",
       "0                  2              1                    0                    0   \n",
       "1                  3              3                    0                    0   \n",
       "2                  3              0                    1                    1   \n",
       "3                  3             11                    0                    0   \n",
       "4                  3              3                    0                    0   \n",
       "\n",
       "   Pedestrian_Road_Maintenance_Worker  Sex_of_Casualty  Vehicle_Reference  \n",
       "0                                   0                1                  2  \n",
       "1                                   0                2                  1  \n",
       "2                                   2                2                  1  \n",
       "3                                   0                1                  1  \n",
       "4                                   0                1                  1  "
      ]
     },
     "execution_count": 5,
     "metadata": {},
     "output_type": "execute_result"
    }
   ],
   "source": [
    "casualties = pd.concat([pd.read_csv(f, compression='zip') for f in glob.glob('data/*Casualties*.zip')], \n",
    "                       sort=True)\n",
    "print('Records:', casualties.shape[0], '\\nColumns:', casualties.shape[1])\n",
    "casualties.head()"
   ]
  },
  {
   "cell_type": "code",
   "execution_count": 6,
   "metadata": {},
   "outputs": [],
   "source": [
    "#casualties.info()"
   ]
  },
  {
   "cell_type": "markdown",
   "metadata": {},
   "source": [
    "The combined casualties table has roughly 917,000 with 16 columns providing detailed information about the casualties. The data is almost complete, with missing values only in the `age_of_casualty` and `Casualty_IMD_Decile` columns. Apart from the index, all data is stored in a numeric format."
   ]
  },
  {
   "cell_type": "markdown",
   "metadata": {},
   "source": [
    "**Vehicles 2013-2017**"
   ]
  },
  {
   "cell_type": "code",
   "execution_count": 7,
   "metadata": {},
   "outputs": [],
   "source": [
    "# renaming the index column in one of our tables\n",
    "#df = pd.read_csv('data/dftRoadSafetyData_Vehicles_2013.zip', compression='zip')\n",
    "#df = df.rename(columns={'Acc_Index': 'Accident_Index'})\n",
    "#df.to_csv('data/dftRoadSafetyData_Vehicles_2013.zip', compression='zip', index=False)"
   ]
  },
  {
   "cell_type": "code",
   "execution_count": 8,
   "metadata": {},
   "outputs": [
    {
     "name": "stdout",
     "output_type": "stream",
     "text": [
      "Records: 1270711 \n",
      "Columns: 23\n"
     ]
    },
    {
     "data": {
      "text/html": [
       "<div>\n",
       "<style scoped>\n",
       "    .dataframe tbody tr th:only-of-type {\n",
       "        vertical-align: middle;\n",
       "    }\n",
       "\n",
       "    .dataframe tbody tr th {\n",
       "        vertical-align: top;\n",
       "    }\n",
       "\n",
       "    .dataframe thead th {\n",
       "        text-align: right;\n",
       "    }\n",
       "</style>\n",
       "<table border=\"1\" class=\"dataframe\">\n",
       "  <thead>\n",
       "    <tr style=\"text-align: right;\">\n",
       "      <th></th>\n",
       "      <th>1st_Point_of_Impact</th>\n",
       "      <th>Accident_Index</th>\n",
       "      <th>Age_Band_of_Driver</th>\n",
       "      <th>Age_of_Driver</th>\n",
       "      <th>Age_of_Vehicle</th>\n",
       "      <th>Driver_Home_Area_Type</th>\n",
       "      <th>Driver_IMD_Decile</th>\n",
       "      <th>Engine_Capacity_(CC)</th>\n",
       "      <th>Hit_Object_in_Carriageway</th>\n",
       "      <th>Hit_Object_off_Carriageway</th>\n",
       "      <th>...</th>\n",
       "      <th>Sex_of_Driver</th>\n",
       "      <th>Skidding_and_Overturning</th>\n",
       "      <th>Towing_and_Articulation</th>\n",
       "      <th>Vehicle_IMD_Decile</th>\n",
       "      <th>Vehicle_Leaving_Carriageway</th>\n",
       "      <th>Vehicle_Location-Restricted_Lane</th>\n",
       "      <th>Vehicle_Manoeuvre</th>\n",
       "      <th>Vehicle_Reference</th>\n",
       "      <th>Vehicle_Type</th>\n",
       "      <th>Was_Vehicle_Left_Hand_Drive?</th>\n",
       "    </tr>\n",
       "  </thead>\n",
       "  <tbody>\n",
       "    <tr>\n",
       "      <th>0</th>\n",
       "      <td>1</td>\n",
       "      <td>201301BS70003</td>\n",
       "      <td>8</td>\n",
       "      <td>NaN</td>\n",
       "      <td>10</td>\n",
       "      <td>1</td>\n",
       "      <td>8</td>\n",
       "      <td>2402</td>\n",
       "      <td>0</td>\n",
       "      <td>0</td>\n",
       "      <td>...</td>\n",
       "      <td>1</td>\n",
       "      <td>0</td>\n",
       "      <td>0</td>\n",
       "      <td>NaN</td>\n",
       "      <td>0</td>\n",
       "      <td>0</td>\n",
       "      <td>6</td>\n",
       "      <td>1</td>\n",
       "      <td>8</td>\n",
       "      <td>1</td>\n",
       "    </tr>\n",
       "    <tr>\n",
       "      <th>1</th>\n",
       "      <td>1</td>\n",
       "      <td>201301BS70003</td>\n",
       "      <td>7</td>\n",
       "      <td>NaN</td>\n",
       "      <td>-1</td>\n",
       "      <td>1</td>\n",
       "      <td>8</td>\n",
       "      <td>-1</td>\n",
       "      <td>0</td>\n",
       "      <td>0</td>\n",
       "      <td>...</td>\n",
       "      <td>1</td>\n",
       "      <td>0</td>\n",
       "      <td>0</td>\n",
       "      <td>NaN</td>\n",
       "      <td>0</td>\n",
       "      <td>0</td>\n",
       "      <td>18</td>\n",
       "      <td>2</td>\n",
       "      <td>1</td>\n",
       "      <td>1</td>\n",
       "    </tr>\n",
       "    <tr>\n",
       "      <th>2</th>\n",
       "      <td>1</td>\n",
       "      <td>201301BS70005</td>\n",
       "      <td>6</td>\n",
       "      <td>NaN</td>\n",
       "      <td>5</td>\n",
       "      <td>1</td>\n",
       "      <td>4</td>\n",
       "      <td>124</td>\n",
       "      <td>0</td>\n",
       "      <td>0</td>\n",
       "      <td>...</td>\n",
       "      <td>2</td>\n",
       "      <td>0</td>\n",
       "      <td>0</td>\n",
       "      <td>NaN</td>\n",
       "      <td>0</td>\n",
       "      <td>0</td>\n",
       "      <td>18</td>\n",
       "      <td>1</td>\n",
       "      <td>3</td>\n",
       "      <td>1</td>\n",
       "    </tr>\n",
       "    <tr>\n",
       "      <th>3</th>\n",
       "      <td>0</td>\n",
       "      <td>201301BS70006</td>\n",
       "      <td>8</td>\n",
       "      <td>NaN</td>\n",
       "      <td>-1</td>\n",
       "      <td>1</td>\n",
       "      <td>1</td>\n",
       "      <td>-1</td>\n",
       "      <td>0</td>\n",
       "      <td>0</td>\n",
       "      <td>...</td>\n",
       "      <td>1</td>\n",
       "      <td>0</td>\n",
       "      <td>0</td>\n",
       "      <td>NaN</td>\n",
       "      <td>0</td>\n",
       "      <td>0</td>\n",
       "      <td>14</td>\n",
       "      <td>1</td>\n",
       "      <td>11</td>\n",
       "      <td>1</td>\n",
       "    </tr>\n",
       "    <tr>\n",
       "      <th>4</th>\n",
       "      <td>4</td>\n",
       "      <td>201301BS70007</td>\n",
       "      <td>7</td>\n",
       "      <td>NaN</td>\n",
       "      <td>7</td>\n",
       "      <td>1</td>\n",
       "      <td>4</td>\n",
       "      <td>124</td>\n",
       "      <td>0</td>\n",
       "      <td>0</td>\n",
       "      <td>...</td>\n",
       "      <td>1</td>\n",
       "      <td>0</td>\n",
       "      <td>0</td>\n",
       "      <td>NaN</td>\n",
       "      <td>0</td>\n",
       "      <td>0</td>\n",
       "      <td>4</td>\n",
       "      <td>1</td>\n",
       "      <td>3</td>\n",
       "      <td>1</td>\n",
       "    </tr>\n",
       "  </tbody>\n",
       "</table>\n",
       "<p>5 rows × 23 columns</p>\n",
       "</div>"
      ],
      "text/plain": [
       "   1st_Point_of_Impact Accident_Index  Age_Band_of_Driver  Age_of_Driver  \\\n",
       "0                    1  201301BS70003                   8            NaN   \n",
       "1                    1  201301BS70003                   7            NaN   \n",
       "2                    1  201301BS70005                   6            NaN   \n",
       "3                    0  201301BS70006                   8            NaN   \n",
       "4                    4  201301BS70007                   7            NaN   \n",
       "\n",
       "   Age_of_Vehicle  Driver_Home_Area_Type  Driver_IMD_Decile  \\\n",
       "0              10                      1                  8   \n",
       "1              -1                      1                  8   \n",
       "2               5                      1                  4   \n",
       "3              -1                      1                  1   \n",
       "4               7                      1                  4   \n",
       "\n",
       "   Engine_Capacity_(CC)  Hit_Object_in_Carriageway  \\\n",
       "0                  2402                          0   \n",
       "1                    -1                          0   \n",
       "2                   124                          0   \n",
       "3                    -1                          0   \n",
       "4                   124                          0   \n",
       "\n",
       "   Hit_Object_off_Carriageway  ...  Sex_of_Driver  Skidding_and_Overturning  \\\n",
       "0                           0  ...              1                         0   \n",
       "1                           0  ...              1                         0   \n",
       "2                           0  ...              2                         0   \n",
       "3                           0  ...              1                         0   \n",
       "4                           0  ...              1                         0   \n",
       "\n",
       "   Towing_and_Articulation  Vehicle_IMD_Decile  Vehicle_Leaving_Carriageway  \\\n",
       "0                        0                 NaN                            0   \n",
       "1                        0                 NaN                            0   \n",
       "2                        0                 NaN                            0   \n",
       "3                        0                 NaN                            0   \n",
       "4                        0                 NaN                            0   \n",
       "\n",
       "   Vehicle_Location-Restricted_Lane  Vehicle_Manoeuvre  Vehicle_Reference  \\\n",
       "0                                 0                  6                  1   \n",
       "1                                 0                 18                  2   \n",
       "2                                 0                 18                  1   \n",
       "3                                 0                 14                  1   \n",
       "4                                 0                  4                  1   \n",
       "\n",
       "   Vehicle_Type  Was_Vehicle_Left_Hand_Drive?  \n",
       "0             8                             1  \n",
       "1             1                             1  \n",
       "2             3                             1  \n",
       "3            11                             1  \n",
       "4             3                             1  \n",
       "\n",
       "[5 rows x 23 columns]"
      ]
     },
     "execution_count": 8,
     "metadata": {},
     "output_type": "execute_result"
    }
   ],
   "source": [
    "vehicles = pd.concat([pd.read_csv(f, compression='zip') for f in glob.glob('data/*Vehicles*.zip')], \n",
    "                     sort=True)\n",
    "print('Records:', vehicles.shape[0], '\\nColumns:', vehicles.shape[1])\n",
    "vehicles.head()"
   ]
  },
  {
   "cell_type": "code",
   "execution_count": 9,
   "metadata": {},
   "outputs": [],
   "source": [
    "#vehicles.info()"
   ]
  },
  {
   "cell_type": "markdown",
   "metadata": {},
   "source": [
    "The vehicles table is the largest of all three and contains roughly 1.270.000 records spanned over 23 columns with detailed information about the vehicle and its driver. We face missing values in the exact same columns as before: `Age_of_Driver` as well as `Vehicle_IMD_Decile`."
   ]
  },
  {
   "cell_type": "markdown",
   "metadata": {},
   "source": [
    "*Back to: <a href='#Table of Contents'> Table of Contents</a>*\n",
    "### 2. Preprocessing the Data\n",
    "<a id='2. Preprocessing the Data'></a>"
   ]
  },
  {
   "cell_type": "markdown",
   "metadata": {},
   "source": [
    "#### 2.1. Handling Date and Time Columns\n",
    "<a id='2.1. Handling Date and Time Columns'></a>"
   ]
  },
  {
   "cell_type": "markdown",
   "metadata": {},
   "source": [
    "We had our `Date` columnwith values not properly stored in the correct format. Let's do this now:"
   ]
  },
  {
   "cell_type": "code",
   "execution_count": 10,
   "metadata": {},
   "outputs": [],
   "source": [
    "accidents['Date']= pd.to_datetime(accidents['Date'], format=\"%d/%m/%Y\")"
   ]
  },
  {
   "cell_type": "code",
   "execution_count": 11,
   "metadata": {},
   "outputs": [
    {
     "name": "stdout",
     "output_type": "stream",
     "text": [
      "<class 'pandas.core.frame.DataFrame'>\n",
      "Int64Index: 691641 entries, 0 to 138659\n",
      "Data columns (total 8 columns):\n",
      "Police_Force                  691641 non-null int64\n",
      "Accident_Severity             691641 non-null int64\n",
      "Number_of_Vehicles            691641 non-null int64\n",
      "Number_of_Casualties          691641 non-null int64\n",
      "Date                          691641 non-null datetime64[ns]\n",
      "Day_of_Week                   691641 non-null int64\n",
      "Time                          691610 non-null object\n",
      "Local_Authority_(District)    691641 non-null int64\n",
      "dtypes: datetime64[ns](1), int64(6), object(1)\n",
      "memory usage: 47.5+ MB\n"
     ]
    }
   ],
   "source": [
    "# check\n",
    "accidents.iloc[:, 5:13].info()"
   ]
  },
  {
   "cell_type": "code",
   "execution_count": 12,
   "metadata": {},
   "outputs": [
    {
     "data": {
      "text/html": [
       "<div>\n",
       "<style scoped>\n",
       "    .dataframe tbody tr th:only-of-type {\n",
       "        vertical-align: middle;\n",
       "    }\n",
       "\n",
       "    .dataframe tbody tr th {\n",
       "        vertical-align: top;\n",
       "    }\n",
       "\n",
       "    .dataframe thead th {\n",
       "        text-align: right;\n",
       "    }\n",
       "</style>\n",
       "<table border=\"1\" class=\"dataframe\">\n",
       "  <thead>\n",
       "    <tr style=\"text-align: right;\">\n",
       "      <th></th>\n",
       "      <th>Police_Force</th>\n",
       "      <th>Accident_Severity</th>\n",
       "      <th>Number_of_Vehicles</th>\n",
       "      <th>Number_of_Casualties</th>\n",
       "      <th>Date</th>\n",
       "      <th>Day_of_Week</th>\n",
       "      <th>Time</th>\n",
       "      <th>Local_Authority_(District)</th>\n",
       "    </tr>\n",
       "  </thead>\n",
       "  <tbody>\n",
       "    <tr>\n",
       "      <th>0</th>\n",
       "      <td>1</td>\n",
       "      <td>3</td>\n",
       "      <td>1</td>\n",
       "      <td>1</td>\n",
       "      <td>2015-01-12</td>\n",
       "      <td>2</td>\n",
       "      <td>18:45</td>\n",
       "      <td>12</td>\n",
       "    </tr>\n",
       "    <tr>\n",
       "      <th>1</th>\n",
       "      <td>1</td>\n",
       "      <td>3</td>\n",
       "      <td>1</td>\n",
       "      <td>1</td>\n",
       "      <td>2015-01-12</td>\n",
       "      <td>2</td>\n",
       "      <td>07:50</td>\n",
       "      <td>12</td>\n",
       "    </tr>\n",
       "  </tbody>\n",
       "</table>\n",
       "</div>"
      ],
      "text/plain": [
       "   Police_Force  Accident_Severity  Number_of_Vehicles  Number_of_Casualties  \\\n",
       "0             1                  3                   1                     1   \n",
       "1             1                  3                   1                     1   \n",
       "\n",
       "        Date  Day_of_Week   Time  Local_Authority_(District)  \n",
       "0 2015-01-12            2  18:45                          12  \n",
       "1 2015-01-12            2  07:50                          12  "
      ]
     },
     "execution_count": 12,
     "metadata": {},
     "output_type": "execute_result"
    }
   ],
   "source": [
    "accidents.iloc[:, 5:13].head(2)"
   ]
  },
  {
   "cell_type": "markdown",
   "metadata": {},
   "source": [
    "Next, let's define a new column that groups the `Time` the accidents happened into one of five options:\n",
    "- Morning\n",
    "- Afternoon\n",
    "- Rush_Hour\n",
    "- Evening\n",
    "- Night"
   ]
  },
  {
   "cell_type": "code",
   "execution_count": 13,
   "metadata": {},
   "outputs": [],
   "source": [
    "# slice first and second string from time column\n",
    "accidents['Hour'] = accidents['Time'].str[0:2]\n",
    "\n",
    "# convert new column to numeric datetype\n",
    "accidents['Hour'] = pd.to_numeric(accidents['Hour'])\n",
    "\n",
    "# drop null values in our new column\n",
    "accidents = accidents.dropna(subset=['Hour'])\n",
    "\n",
    "# cast to integer values\n",
    "accidents['Hour'] = accidents['Hour'].astype('int')"
   ]
  },
  {
   "cell_type": "code",
   "execution_count": 14,
   "metadata": {},
   "outputs": [],
   "source": [
    "# define a function that turns the hours into groups\n",
    "def when_was_it(hour):\n",
    "    if hour >= 5 and hour < 11:\n",
    "        return \"morning (5-11)\"\n",
    "    elif hour >= 11 and hour < 16:\n",
    "        return \"afternoon (11-16)\"\n",
    "    elif hour >= 16 and hour < 19:\n",
    "        return \"rush_hour (16-19)\"\n",
    "    elif hour >= 19 and hour < 22:\n",
    "        return \"evening (19-22)\"\n",
    "    else:\n",
    "        return \"night (22-5)\""
   ]
  },
  {
   "cell_type": "code",
   "execution_count": 15,
   "metadata": {},
   "outputs": [
    {
     "data": {
      "text/html": [
       "<div>\n",
       "<style scoped>\n",
       "    .dataframe tbody tr th:only-of-type {\n",
       "        vertical-align: middle;\n",
       "    }\n",
       "\n",
       "    .dataframe tbody tr th {\n",
       "        vertical-align: top;\n",
       "    }\n",
       "\n",
       "    .dataframe thead th {\n",
       "        text-align: right;\n",
       "    }\n",
       "</style>\n",
       "<table border=\"1\" class=\"dataframe\">\n",
       "  <thead>\n",
       "    <tr style=\"text-align: right;\">\n",
       "      <th></th>\n",
       "      <th>Time</th>\n",
       "      <th>Hour</th>\n",
       "      <th>Daytime</th>\n",
       "    </tr>\n",
       "  </thead>\n",
       "  <tbody>\n",
       "    <tr>\n",
       "      <th>0</th>\n",
       "      <td>18:45</td>\n",
       "      <td>18</td>\n",
       "      <td>rush_hour (16-19)</td>\n",
       "    </tr>\n",
       "    <tr>\n",
       "      <th>1</th>\n",
       "      <td>07:50</td>\n",
       "      <td>7</td>\n",
       "      <td>morning (5-11)</td>\n",
       "    </tr>\n",
       "    <tr>\n",
       "      <th>2</th>\n",
       "      <td>18:08</td>\n",
       "      <td>18</td>\n",
       "      <td>rush_hour (16-19)</td>\n",
       "    </tr>\n",
       "    <tr>\n",
       "      <th>3</th>\n",
       "      <td>07:40</td>\n",
       "      <td>7</td>\n",
       "      <td>morning (5-11)</td>\n",
       "    </tr>\n",
       "    <tr>\n",
       "      <th>4</th>\n",
       "      <td>07:30</td>\n",
       "      <td>7</td>\n",
       "      <td>morning (5-11)</td>\n",
       "    </tr>\n",
       "    <tr>\n",
       "      <th>5</th>\n",
       "      <td>09:56</td>\n",
       "      <td>9</td>\n",
       "      <td>morning (5-11)</td>\n",
       "    </tr>\n",
       "    <tr>\n",
       "      <th>6</th>\n",
       "      <td>09:09</td>\n",
       "      <td>9</td>\n",
       "      <td>morning (5-11)</td>\n",
       "    </tr>\n",
       "    <tr>\n",
       "      <th>7</th>\n",
       "      <td>15:30</td>\n",
       "      <td>15</td>\n",
       "      <td>afternoon (11-16)</td>\n",
       "    </tr>\n",
       "  </tbody>\n",
       "</table>\n",
       "</div>"
      ],
      "text/plain": [
       "    Time  Hour            Daytime\n",
       "0  18:45    18  rush_hour (16-19)\n",
       "1  07:50     7     morning (5-11)\n",
       "2  18:08    18  rush_hour (16-19)\n",
       "3  07:40     7     morning (5-11)\n",
       "4  07:30     7     morning (5-11)\n",
       "5  09:56     9     morning (5-11)\n",
       "6  09:09     9     morning (5-11)\n",
       "7  15:30    15  afternoon (11-16)"
      ]
     },
     "execution_count": 15,
     "metadata": {},
     "output_type": "execute_result"
    }
   ],
   "source": [
    "# apply thus function to our temporary hour column\n",
    "accidents['Daytime'] = accidents['Hour'].apply(when_was_it)\n",
    "accidents[['Time', 'Hour', 'Daytime']].head(8)"
   ]
  },
  {
   "cell_type": "code",
   "execution_count": 16,
   "metadata": {},
   "outputs": [],
   "source": [
    "# drop old time column and temporary hour column\n",
    "accidents = accidents.drop(columns=['Time', 'Hour'])"
   ]
  },
  {
   "cell_type": "markdown",
   "metadata": {},
   "source": [
    "#### 2.2. Handling Missing Values\n",
    "<a id='2.2. Handling Missing Values'></a>"
   ]
  },
  {
   "cell_type": "code",
   "execution_count": 17,
   "metadata": {},
   "outputs": [
    {
     "name": "stdout",
     "output_type": "stream",
     "text": [
      "Proportion of Missing Values in Accidents Table: 0.063 %\n"
     ]
    }
   ],
   "source": [
    "print('Proportion of Missing Values in Accidents Table:', \n",
    "      round(accidents.isna().sum().sum()/len(accidents),3), '%')"
   ]
  },
  {
   "cell_type": "code",
   "execution_count": 18,
   "metadata": {},
   "outputs": [],
   "source": [
    "#accidents.isna().sum()"
   ]
  },
  {
   "cell_type": "code",
   "execution_count": 19,
   "metadata": {},
   "outputs": [
    {
     "name": "stdout",
     "output_type": "stream",
     "text": [
      "Proportion of Missing Values in Casualties Table: 0.613 %\n"
     ]
    }
   ],
   "source": [
    "print('Proportion of Missing Values in Casualties Table:', \n",
    "      round(casualties.isna().sum().sum()/len(casualties),3), '%')"
   ]
  },
  {
   "cell_type": "code",
   "execution_count": 20,
   "metadata": {},
   "outputs": [
    {
     "name": "stdout",
     "output_type": "stream",
     "text": [
      "Proportion of Missing Values in Vehicles Table: 0.609 %\n"
     ]
    }
   ],
   "source": [
    "print('Proportion of Missing Values in Vehicles Table:', \n",
    "      round(vehicles.isna().sum().sum()/len(vehicles),3), '%')"
   ]
  },
  {
   "cell_type": "markdown",
   "metadata": {},
   "source": [
    "The last two dataframes have far too many missing values to even think about dropping them. But the first one only contains 6% missing values and it might be helpful to not mess up later analysis with NaN's. Let's drop them:"
   ]
  },
  {
   "cell_type": "code",
   "execution_count": 21,
   "metadata": {},
   "outputs": [
    {
     "data": {
      "text/plain": [
       "0"
      ]
     },
     "execution_count": 21,
     "metadata": {},
     "output_type": "execute_result"
    }
   ],
   "source": [
    "accidents = accidents.dropna()\n",
    "\n",
    "# check if we have no NaN's anymore\n",
    "accidents.isna().sum().sum()"
   ]
  },
  {
   "cell_type": "code",
   "execution_count": 22,
   "metadata": {},
   "outputs": [
    {
     "data": {
      "text/plain": [
       "(648155, 32)"
      ]
     },
     "execution_count": 22,
     "metadata": {},
     "output_type": "execute_result"
    }
   ],
   "source": [
    "accidents.shape"
   ]
  },
  {
   "cell_type": "code",
   "execution_count": 23,
   "metadata": {},
   "outputs": [
    {
     "name": "stdout",
     "output_type": "stream",
     "text": [
      "<class 'pandas.core.frame.DataFrame'>\n",
      "Int64Index: 648155 entries, 0 to 129680\n",
      "Data columns (total 32 columns):\n",
      "Accident_Index                                 648155 non-null object\n",
      "Location_Easting_OSGR                          648155 non-null float64\n",
      "Location_Northing_OSGR                         648155 non-null float64\n",
      "Longitude                                      648155 non-null float64\n",
      "Latitude                                       648155 non-null float64\n",
      "Police_Force                                   648155 non-null int64\n",
      "Accident_Severity                              648155 non-null int64\n",
      "Number_of_Vehicles                             648155 non-null int64\n",
      "Number_of_Casualties                           648155 non-null int64\n",
      "Date                                           648155 non-null datetime64[ns]\n",
      "Day_of_Week                                    648155 non-null int64\n",
      "Local_Authority_(District)                     648155 non-null int64\n",
      "Local_Authority_(Highway)                      648155 non-null object\n",
      "1st_Road_Class                                 648155 non-null int64\n",
      "1st_Road_Number                                648155 non-null int64\n",
      "Road_Type                                      648155 non-null int64\n",
      "Speed_limit                                    648155 non-null float64\n",
      "Junction_Detail                                648155 non-null int64\n",
      "Junction_Control                               648155 non-null int64\n",
      "2nd_Road_Class                                 648155 non-null int64\n",
      "2nd_Road_Number                                648155 non-null int64\n",
      "Pedestrian_Crossing-Human_Control              648155 non-null int64\n",
      "Pedestrian_Crossing-Physical_Facilities        648155 non-null int64\n",
      "Light_Conditions                               648155 non-null int64\n",
      "Weather_Conditions                             648155 non-null int64\n",
      "Road_Surface_Conditions                        648155 non-null int64\n",
      "Special_Conditions_at_Site                     648155 non-null int64\n",
      "Carriageway_Hazards                            648155 non-null int64\n",
      "Urban_or_Rural_Area                            648155 non-null int64\n",
      "Did_Police_Officer_Attend_Scene_of_Accident    648155 non-null int64\n",
      "LSOA_of_Accident_Location                      648155 non-null object\n",
      "Daytime                                        648155 non-null object\n",
      "dtypes: datetime64[ns](1), float64(5), int64(22), object(4)\n",
      "memory usage: 163.2+ MB\n"
     ]
    }
   ],
   "source": [
    "accidents.info()"
   ]
  },
  {
   "cell_type": "markdown",
   "metadata": {},
   "source": [
    "*Back to: <a href='#Table of Contents'> Table of Contents</a>*\n",
    "### 3. Modeling the Data\n",
    "<a id='3. Modeling the Data'></a>"
   ]
  },
  {
   "cell_type": "markdown",
   "metadata": {},
   "source": [
    "#### 3.1. Preprocessing Target and Features \n",
    "<a id='3.1. Preprocessing Target and Features'></a>"
   ]
  },
  {
   "cell_type": "code",
   "execution_count": 42,
   "metadata": {},
   "outputs": [
    {
     "data": {
      "text/plain": [
       "0"
      ]
     },
     "execution_count": 42,
     "metadata": {},
     "output_type": "execute_result"
    }
   ],
   "source": [
    "# combine the accidents with the vehicles table\n",
    "df = pd.merge(accidents[['Accident_Index', 'Accident_Severity', 'Number_of_Vehicles', 'Number_of_Casualties', \n",
    "                         'Day_of_Week', 'Local_Authority_(District)', 'Light_Conditions', \n",
    "                         'Weather_Conditions', 'Road_Surface_Conditions', 'Special_Conditions_at_Site', \n",
    "                         'Carriageway_Hazards', 'Urban_or_Rural_Area', 'Daytime']], \n",
    "              vehicles[['Accident_Index', 'Age_Band_of_Driver', 'Age_of_Vehicle', \n",
    "                        'Engine_Capacity_(CC)', 'Sex_of_Driver', 'Vehicle_Type']], \n",
    "              on='Accident_Index')\n",
    "#accidents:'LSOA_of_Accident_Location', 'Date', 'Time'\n",
    "\n",
    "df.isna().sum().sum()"
   ]
  },
  {
   "cell_type": "code",
   "execution_count": 43,
   "metadata": {},
   "outputs": [],
   "source": [
    "#df.info()    "
   ]
  },
  {
   "cell_type": "code",
   "execution_count": 44,
   "metadata": {},
   "outputs": [],
   "source": [
    "# cast categorical features - currently stored as string data - to their proper data format\n",
    "for col in ['Accident_Severity', 'Day_of_Week',  'Local_Authority_(District)', 'Light_Conditions', \n",
    "            'Weather_Conditions', 'Road_Surface_Conditions', 'Special_Conditions_at_Site', \n",
    "            'Carriageway_Hazards', 'Urban_or_Rural_Area', 'Daytime', 'Age_Band_of_Driver', 'Sex_of_Driver',\n",
    "            'Vehicle_Type']:\n",
    "    df[col] = df[col].astype('category')\n",
    "    \n",
    "#df.info()"
   ]
  },
  {
   "cell_type": "code",
   "execution_count": 45,
   "metadata": {},
   "outputs": [],
   "source": [
    "# create dummy variables from the categorical features\n",
    "cat_cols = ['Accident_Severity', 'Day_of_Week', 'Local_Authority_(District)', 'Light_Conditions', \n",
    "                'Weather_Conditions', 'Road_Surface_Conditions', 'Special_Conditions_at_Site', \n",
    "                'Carriageway_Hazards', 'Urban_or_Rural_Area', 'Daytime', 'Age_Band_of_Driver',  \n",
    "                'Sex_of_Driver', 'Vehicle_Type']\n",
    "\n",
    "num_cols = ['Number_of_Vehicles', 'Number_of_Casualties', 'Age_of_Vehicle', 'Engine_Capacity_(CC)']\n",
    "\n",
    "cols = cat_cols + num_cols\n",
    "    \n",
    "df_model = df[cols].copy()\n",
    "dummies = pd.get_dummies(df_model[cat_cols])\n",
    "df_model = pd.concat([df_model, dummies], axis=1)"
   ]
  },
  {
   "cell_type": "code",
   "execution_count": 46,
   "metadata": {},
   "outputs": [],
   "source": [
    "# define our target\n",
    "target = df_model[['Accident_Severity']]\n",
    "\n",
    "# define our features ...\n",
    "features = df_model.drop(['Accident_Severity'], axis=1)"
   ]
  },
  {
   "cell_type": "code",
   "execution_count": 47,
   "metadata": {},
   "outputs": [
    {
     "data": {
      "text/plain": [
       "(1129207, 1)"
      ]
     },
     "execution_count": 47,
     "metadata": {},
     "output_type": "execute_result"
    }
   ],
   "source": [
    "target.shape"
   ]
  },
  {
   "cell_type": "code",
   "execution_count": 48,
   "metadata": {},
   "outputs": [
    {
     "data": {
      "text/plain": [
       "(1129207, 456)"
      ]
     },
     "execution_count": 48,
     "metadata": {},
     "output_type": "execute_result"
    }
   ],
   "source": [
    "features.shape"
   ]
  },
  {
   "cell_type": "markdown",
   "metadata": {},
   "source": [
    "*Back to: <a href='#Table of Contents'> Table of Contents</a>*\n",
    "#### 3.2. Dimensionality Reduction using Feature Selection\n",
    "<a id='3.2. Dimensionality Reduction using Feature Selection'></a>\n",
    "\n",
    "We'll start reducing the dimensionality of our feature matrix by selecting high-quality, informative features and dropping less useful features. This approach is called feature selection."
   ]
  },
  {
   "cell_type": "markdown",
   "metadata": {},
   "source": [
    "*1. Thresholding Numerical Feature Variance*"
   ]
  },
  {
   "cell_type": "code",
   "execution_count": 49,
   "metadata": {},
   "outputs": [],
   "source": [
    "# import library\n",
    "from sklearn.feature_selection import VarianceThreshold"
   ]
  },
  {
   "cell_type": "code",
   "execution_count": 157,
   "metadata": {},
   "outputs": [],
   "source": [
    "# create thresholder\n",
    "thresholder = VarianceThreshold(threshold=0.7)\n",
    "\n",
    "# create high vaiance feature matrix\n",
    "feature_high_variance = thresholder.fit_transform(features_num)\n",
    "\n",
    "# View first 2 rows with features with variances above threshold\n",
    "#feature_high_variance[0:2]\n",
    "\n",
    "# view variances\n",
    "#thresholder.fit(features_num).variances_\n",
    "\n",
    "# view shape of matrix\n",
    "#feature_high_variance.shape"
   ]
  },
  {
   "cell_type": "code",
   "execution_count": 158,
   "metadata": {},
   "outputs": [],
   "source": [
    "useful_columns = [column for column in features_num.columns \n",
    "                  if column in features_num.columns[thresholder.get_support()]]\n",
    "\n",
    "not_useful_columns = [column for column in features_num.columns \n",
    "                      if column not in features_num.columns[thresholder.get_support()]]\n",
    "\n",
    "#useful_columns\n",
    "#not_useful_columns"
   ]
  },
  {
   "cell_type": "code",
   "execution_count": 159,
   "metadata": {},
   "outputs": [
    {
     "data": {
      "text/plain": [
       "(1129207, 4)"
      ]
     },
     "execution_count": 159,
     "metadata": {},
     "output_type": "execute_result"
    }
   ],
   "source": [
    "features_num_selected = features_num[useful_columns]\n",
    "features_num_selected.shape"
   ]
  },
  {
   "cell_type": "markdown",
   "metadata": {},
   "source": [
    "*2. Handling Highly Correlated Features*"
   ]
  },
  {
   "cell_type": "code",
   "execution_count": 160,
   "metadata": {},
   "outputs": [
    {
     "data": {
      "image/png": "[encoded data removed]",
      "text/plain": [
       "<Figure size 720x432 with 2 Axes>"
      ]
     },
     "metadata": {
      "needs_background": "light"
     },
     "output_type": "display_data"
    }
   ],
   "source": [
    "# use heatmap to check for intercorrelation between variables\n",
    "plt.figure(figsize=(10,6))\n",
    "sns.heatmap(features_num_selected.corr(), center=0);"
   ]
  },
  {
   "cell_type": "code",
   "execution_count": 161,
   "metadata": {},
   "outputs": [
    {
     "data": {
      "text/plain": [
       "(1129207, 4)"
      ]
     },
     "execution_count": 161,
     "metadata": {},
     "output_type": "execute_result"
    }
   ],
   "source": [
    "# create correlation matrix\n",
    "corr_matrix = features_num_selected.corr().abs()\n",
    "\n",
    "# select upper triangle of an array\n",
    "upper = corr_matrix.where(np.triu(np.ones(corr_matrix.shape), k=1).astype(np.bool))\n",
    "\n",
    "# find index of feature columns with correlation greater than 0.75\n",
    "to_drop = [column for column in upper.columns if any(upper[column] > 0.75)]\n",
    "\n",
    "# drop features\n",
    "features_num_selected = features_num_selected.drop(features_num_selected[to_drop], axis=1)\n",
    "\n",
    "features_num_selected.shape"
   ]
  },
  {
   "cell_type": "code",
   "execution_count": null,
   "metadata": {},
   "outputs": [],
   "source": []
  },
  {
   "cell_type": "code",
   "execution_count": 180,
   "metadata": {},
   "outputs": [
    {
     "data": {
      "text/plain": [
       "Index(['Day_of_Week', 'Local_Authority_(District)', 'Light_Conditions',\n",
       "       'Weather_Conditions', 'Road_Surface_Conditions',\n",
       "       'Special_Conditions_at_Site', 'Carriageway_Hazards',\n",
       "       'Urban_or_Rural_Area', 'Age_Band_of_Driver', 'Sex_of_Driver',\n",
       "       'Vehicle_Type'],\n",
       "      dtype='object')"
      ]
     },
     "execution_count": 180,
     "metadata": {},
     "output_type": "execute_result"
    }
   ],
   "source": [
    "features_cat.columns"
   ]
  },
  {
   "cell_type": "code",
   "execution_count": 181,
   "metadata": {},
   "outputs": [
    {
     "data": {
      "text/plain": [
       " 1    834220\n",
       " 4    220010\n",
       " 6     51194\n",
       " 7     17423\n",
       " 5      6341\n",
       "-1        19\n",
       "Name: Light_Conditions, dtype: int64"
      ]
     },
     "execution_count": 181,
     "metadata": {},
     "output_type": "execute_result"
    }
   ],
   "source": [
    "features_cat.Light_Conditions.value_counts()"
   ]
  },
  {
   "cell_type": "code",
   "execution_count": 195,
   "metadata": {},
   "outputs": [],
   "source": [
    "#features_cat.drop(features_cat[(features_cat.Light_Conditions == -1)].index,axis=0, inplace=True)\n",
    "#features_cat.Light_Conditions.value_counts()"
   ]
  },
  {
   "cell_type": "code",
   "execution_count": 40,
   "metadata": {},
   "outputs": [],
   "source": [
    "#df['Sex_of_Driver'].value_counts()"
   ]
  },
  {
   "cell_type": "code",
   "execution_count": 41,
   "metadata": {},
   "outputs": [],
   "source": [
    "# drop ???\n",
    "df.drop(df[(df['Sex_of_Driver']==3)  | (df['Sex_of_Driver']==-1) | \\\n",
    "           (df['Engine_Capacity_(CC)']==-1) | (df['Engine_Capacity_(CC)'] < 100)].index, axis=0, inplace=True)"
   ]
  },
  {
   "cell_type": "code",
   "execution_count": 42,
   "metadata": {},
   "outputs": [],
   "source": [
    "#df.info()"
   ]
  },
  {
   "cell_type": "code",
   "execution_count": 43,
   "metadata": {},
   "outputs": [],
   "source": [
    "# cast categorical features to their proper data format\n",
    "for col in ['Accident_Severity','Day_of_Week', 'Road_Type', 'Speed_limit', 'Light_Conditions', \n",
    "            'Weather_Conditions','Road_Surface_Conditions', 'Urban_or_Rural_Area', 'Sex_of_Driver']:\n",
    "    df[col] = df[col].astype('category')"
   ]
  },
  {
   "cell_type": "code",
   "execution_count": 44,
   "metadata": {},
   "outputs": [],
   "source": [
    "\n",
    "\n",
    "# create dummy variables\n",
    "features = pd.get_dummies(features)"
   ]
  },
  {
   "cell_type": "code",
   "execution_count": 38,
   "metadata": {},
   "outputs": [],
   "source": [
    "# split our data \n",
    "from sklearn.model_selection import train_test_split\n",
    "\n",
    "X_train, X_test, y_train, y_test = train_test_split(features, target, test_size=0.2)"
   ]
  },
  {
   "cell_type": "code",
   "execution_count": 46,
   "metadata": {},
   "outputs": [],
   "source": [
    "# import classifiers\n",
    "from sklearn.ensemble import RandomForestClassifier\n",
    "import xgboost as xgb\n",
    "from sklearn import svm\n",
    "\n",
    "# import metrics\n",
    "from sklearn.metrics import classification_report, accuracy_score, roc_auc_score\n",
    "\n",
    "# import Grid Search\n",
    "from sklearn.model_selection import GridSearchCV"
   ]
  },
  {
   "cell_type": "code",
   "execution_count": 47,
   "metadata": {},
   "outputs": [],
   "source": [
    "# split our data \n",
    "from sklearn.model_selection import train_test_split\n",
    "\n",
    "X_train, X_test, y_train, y_test = train_test_split(features, target, test_size=0.2)"
   ]
  },
  {
   "cell_type": "code",
   "execution_count": 48,
   "metadata": {},
   "outputs": [],
   "source": [
    "# scale our data\n",
    "from sklearn.preprocessing import StandardScaler\n",
    "\n",
    "sc = StandardScaler()\n",
    "X_train = sc.fit_transform(X_train)\n",
    "X_test  = sc.transform(X_test)"
   ]
  },
  {
   "cell_type": "markdown",
   "metadata": {},
   "source": [
    "*Back to: <a href='#Table of Contents'> Table of Contents</a>*\n",
    "#### 4.2. Random Forest Classifier \n",
    "<a id='4.2. Random Forest Classifier'></a>"
   ]
  },
  {
   "cell_type": "code",
   "execution_count": 49,
   "metadata": {},
   "outputs": [
    {
     "name": "stdout",
     "output_type": "stream",
     "text": [
      "Plain Random Forest\n",
      "-------------------------\n",
      "Training Accuracy: 98.11%\n",
      "Test Accuracy:     81.0%\n"
     ]
    }
   ],
   "source": [
    "# instantiate the plain classifier\n",
    "forest = RandomForestClassifier()\n",
    "\n",
    "# train\n",
    "forest.fit(X_train, y_train)\n",
    "\n",
    "# predict\n",
    "train_preds = forest.predict(X_train)\n",
    "test_preds = forest.predict(X_test)\n",
    "\n",
    "# evaluate\n",
    "train_accuracy_forest = accuracy_score(y_train, train_preds)\n",
    "test_accuracy_forest = accuracy_score(y_test, test_preds)\n",
    "report_forest_1 = classification_report(y_test, test_preds)\n",
    "\n",
    "print(\"Plain Random Forest\")\n",
    "print(\"-------------------------\")\n",
    "print(f\"Training Accuracy: {(train_accuracy_forest * 100):.4}%\")\n",
    "print(f\"Test Accuracy:     {(test_accuracy_forest * 100):.4}%\")"
   ]
  },
  {
   "cell_type": "code",
   "execution_count": 50,
   "metadata": {},
   "outputs": [
    {
     "name": "stdout",
     "output_type": "stream",
     "text": [
      "Classification Report Plain Random Forest: \n",
      "               precision    recall  f1-score   support\n",
      "\n",
      "           1       0.06      0.02      0.03      1547\n",
      "           2       0.21      0.11      0.14     17707\n",
      "           3       0.86      0.94      0.89    108858\n",
      "\n",
      "   micro avg       0.81      0.81      0.81    128112\n",
      "   macro avg       0.38      0.35      0.35    128112\n",
      "weighted avg       0.76      0.81      0.78    128112\n",
      "\n"
     ]
    }
   ],
   "source": [
    "print('Classification Report Plain Random Forest: \\n', report_forest_1)"
   ]
  },
  {
   "cell_type": "code",
   "execution_count": null,
   "metadata": {},
   "outputs": [],
   "source": [
    "# create grid              \n",
    "param_grid = {'n_estimators': [80, 100, 120],\n",
    "              'criterion': ['gini', 'entropy'],\n",
    "              'max_features': [5, 7, 9],         \n",
    "              'max_depth': [5, 8, 10], \n",
    "              'min_samples_split': [2, 3, 4]}\n",
    "\n",
    "# instantiate grid search\n",
    "forest_grid_search = GridSearchCV(forest, param_grid, cv=3)\n",
    "\n",
    "# train\n",
    "forest_grid_search.fit(X_train, y_train)\n",
    "\n",
    "# print best estimator parameters found during the grid search\n",
    "print(forest_grid_search.best_params_)"
   ]
  },
  {
   "cell_type": "code",
   "execution_count": 50,
   "metadata": {},
   "outputs": [
    {
     "name": "stdout",
     "output_type": "stream",
     "text": [
      "Tuned Random Forest\n",
      "-------------------------\n",
      "Training Accuracy: 84.96%\n",
      "Test Accuracy:     84.66%\n"
     ]
    }
   ],
   "source": [
    "# instantiate random forest with the best found parameters\n",
    "forest = RandomForestClassifier(n_estimators=80, criterion='gini', max_features=7, \n",
    "                                      max_depth=10, min_samples_split=4)\n",
    "\n",
    "# train\n",
    "forest.fit(X_train, y_train)\n",
    "\n",
    "# predict\n",
    "train_preds = forest.predict(X_train)\n",
    "test_preds  = forest.predict(X_test)\n",
    "\n",
    "# evaluate\n",
    "train_accuracy_forest = accuracy_score(y_train, train_preds)\n",
    "test_accuracy_forest  = accuracy_score(y_test, test_preds)\n",
    "report_forest_2 = classification_report(y_test, test_preds)\n",
    "\n",
    "print(\"Tuned Random Forest\")\n",
    "print(\"-------------------------\")\n",
    "print(f\"Training Accuracy: {(train_accuracy_forest * 100):.4}%\")\n",
    "print(f\"Test Accuracy:     {(test_accuracy_forest * 100):.4}%\")"
   ]
  },
  {
   "cell_type": "code",
   "execution_count": 54,
   "metadata": {},
   "outputs": [
    {
     "name": "stdout",
     "output_type": "stream",
     "text": [
      "Classification Report Tuned Random Forest: \n",
      "               precision    recall  f1-score   support\n",
      "\n",
      "           1       0.00      0.00      0.00      1573\n",
      "           2       0.50      0.00      0.00     18080\n",
      "           3       0.85      1.00      0.92    108459\n",
      "\n",
      "   micro avg       0.85      0.85      0.85    128112\n",
      "   macro avg       0.45      0.33      0.31    128112\n",
      "weighted avg       0.79      0.85      0.78    128112\n",
      "\n"
     ]
    }
   ],
   "source": [
    "print('Classification Report Tuned Random Forest: \\n', report_forest_2)"
   ]
  },
  {
   "cell_type": "markdown",
   "metadata": {},
   "source": [
    "*Back to: <a href='#Table of Contents'> Table of Contents</a>*\n",
    "#### 4.3. Balancing the Data\n",
    "<a id='4.3. Balancing the Data'></a>"
   ]
  },
  {
   "cell_type": "markdown",
   "metadata": {},
   "source": [
    "https://calremmel.github.io/fraud-detection-part-one.html"
   ]
  },
  {
   "cell_type": "code",
   "execution_count": 52,
   "metadata": {},
   "outputs": [],
   "source": [
    "from imblearn.over_sampling import SMOTE"
   ]
  },
  {
   "cell_type": "code",
   "execution_count": 54,
   "metadata": {},
   "outputs": [
    {
     "name": "stdout",
     "output_type": "stream",
     "text": [
      "3    543781\n",
      "2     88820\n",
      "1      7959\n",
      "Name: Accident_Severity, dtype: int64\n",
      "3    434923\n",
      "2    434923\n",
      "1    434923\n",
      "dtype: int64\n"
     ]
    }
   ],
   "source": [
    "# view previous class distribution\n",
    "print(target['Accident_Severity'].value_counts()) \n",
    "\n",
    "# resample data ONLY using training data\n",
    "X_resampled, y_resampled = SMOTE().fit_sample(X_train, y_train) \n",
    "\n",
    "# view synthetic sample class distribution\n",
    "print(pd.Series(y_resampled).value_counts())"
   ]
  },
  {
   "cell_type": "code",
   "execution_count": 55,
   "metadata": {},
   "outputs": [],
   "source": [
    "# then perform ususal train-test-split\n",
    "X_train, X_test, y_train, y_test = train_test_split(X_resampled, y_resampled, random_state=0)"
   ]
  },
  {
   "cell_type": "code",
   "execution_count": 56,
   "metadata": {},
   "outputs": [
    {
     "name": "stdout",
     "output_type": "stream",
     "text": [
      "Tuned and Balanced Random Forest\n",
      "-------------------------\n",
      "Training Accuracy: 54.9%\n",
      "Test Accuracy:     54.67%\n"
     ]
    }
   ],
   "source": [
    "# instantiate random forest with the best found parameters\n",
    "forest = RandomForestClassifier(n_estimators=80, criterion='gini', max_features=7, \n",
    "                                      max_depth=10, min_samples_split=4)\n",
    "\n",
    "# train\n",
    "forest.fit(X_train, y_train)\n",
    "\n",
    "# predict\n",
    "train_preds = forest.predict(X_train)\n",
    "test_preds  = forest.predict(X_test)\n",
    "\n",
    "# evaluate\n",
    "train_accuracy_forest = accuracy_score(y_train, train_preds)\n",
    "test_accuracy_forest  = accuracy_score(y_test, test_preds)\n",
    "report_forest_3 = classification_report(y_test, test_preds)\n",
    "\n",
    "print(\"Tuned and Balanced Random Forest\")\n",
    "print(\"-------------------------\")\n",
    "print(f\"Training Accuracy: {(train_accuracy_forest * 100):.4}%\")\n",
    "print(f\"Test Accuracy:     {(test_accuracy_forest * 100):.4}%\")"
   ]
  },
  {
   "cell_type": "code",
   "execution_count": 57,
   "metadata": {},
   "outputs": [
    {
     "name": "stdout",
     "output_type": "stream",
     "text": [
      "Classification Report Tuned Random Forest: \n",
      "               precision    recall  f1-score   support\n",
      "\n",
      "           1       0.57      0.74      0.65    108767\n",
      "           2       0.48      0.23      0.31    108851\n",
      "           3       0.54      0.67      0.60    108575\n",
      "\n",
      "   micro avg       0.55      0.55      0.55    326193\n",
      "   macro avg       0.53      0.55      0.52    326193\n",
      "weighted avg       0.53      0.55      0.52    326193\n",
      "\n"
     ]
    }
   ],
   "source": [
    "print('Classification Report Tuned Random Forest: \\n', report_forest_3)"
   ]
  },
  {
   "cell_type": "markdown",
   "metadata": {},
   "source": [
    "Success! Balancing our data has removed the bias towards the more prevalent class."
   ]
  },
  {
   "cell_type": "code",
   "execution_count": null,
   "metadata": {},
   "outputs": [],
   "source": []
  }
 ],
 "metadata": {
  "kernelspec": {
   "display_name": "Python 3",
   "language": "python",
   "name": "python3"
  },
  "language_info": {
   "codemirror_mode": {
    "name": "ipython",
    "version": 3
   },
   "file_extension": ".py",
   "mimetype": "text/x-python",
   "name": "python",
   "nbconvert_exporter": "python",
   "pygments_lexer": "ipython3",
   "version": "3.7.0"
  }
 },
 "nbformat": 4,
 "nbformat_minor": 2
}
